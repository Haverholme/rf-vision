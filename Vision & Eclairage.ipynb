{
 "cells": [
  {
   "cell_type": "markdown",
   "metadata": {},
   "source": [
    "## Loading the data set"
   ]
  },
  {
   "cell_type": "code",
   "execution_count": 147,
   "metadata": {},
   "outputs": [
    {
     "data": {
      "text/html": [
       "<div>\n",
       "<style scoped>\n",
       "    .dataframe tbody tr th:only-of-type {\n",
       "        vertical-align: middle;\n",
       "    }\n",
       "\n",
       "    .dataframe tbody tr th {\n",
       "        vertical-align: top;\n",
       "    }\n",
       "\n",
       "    .dataframe thead th {\n",
       "        text-align: right;\n",
       "    }\n",
       "</style>\n",
       "<table border=\"1\" class=\"dataframe\">\n",
       "  <thead>\n",
       "    <tr style=\"text-align: right;\">\n",
       "      <th></th>\n",
       "      <th>H</th>\n",
       "      <th>M</th>\n",
       "      <th>L</th>\n",
       "      <th>EMBALLAGE</th>\n",
       "      <th>EMBALLE</th>\n",
       "      <th>NU</th>\n",
       "      <th>TOTAL OPAQUE</th>\n",
       "      <th>PART OPAQUE</th>\n",
       "      <th>PAS OPAQUE</th>\n",
       "      <th>PART TRANSLUCIDE</th>\n",
       "      <th>...</th>\n",
       "      <th>SOL21</th>\n",
       "      <th>SOL22</th>\n",
       "      <th>SOL23</th>\n",
       "      <th>SOL24</th>\n",
       "      <th>SOL25</th>\n",
       "      <th>SOL26</th>\n",
       "      <th>SOL27</th>\n",
       "      <th>SOL28</th>\n",
       "      <th>SOL29</th>\n",
       "      <th>SOL30</th>\n",
       "    </tr>\n",
       "    <tr>\n",
       "      <th>ID</th>\n",
       "      <th></th>\n",
       "      <th></th>\n",
       "      <th></th>\n",
       "      <th></th>\n",
       "      <th></th>\n",
       "      <th></th>\n",
       "      <th></th>\n",
       "      <th></th>\n",
       "      <th></th>\n",
       "      <th></th>\n",
       "      <th></th>\n",
       "      <th></th>\n",
       "      <th></th>\n",
       "      <th></th>\n",
       "      <th></th>\n",
       "      <th></th>\n",
       "      <th></th>\n",
       "      <th></th>\n",
       "      <th></th>\n",
       "      <th></th>\n",
       "      <th></th>\n",
       "    </tr>\n",
       "  </thead>\n",
       "  <tbody>\n",
       "    <tr>\n",
       "      <th>1</th>\n",
       "      <td>1</td>\n",
       "      <td>0</td>\n",
       "      <td>0</td>\n",
       "      <td>1</td>\n",
       "      <td>0</td>\n",
       "      <td>0</td>\n",
       "      <td>0</td>\n",
       "      <td>1</td>\n",
       "      <td>0</td>\n",
       "      <td>1</td>\n",
       "      <td>...</td>\n",
       "      <td>0.2</td>\n",
       "      <td>0.0</td>\n",
       "      <td>0.0</td>\n",
       "      <td>0.1</td>\n",
       "      <td>0.6</td>\n",
       "      <td>0.6</td>\n",
       "      <td>0.95</td>\n",
       "      <td>1.0</td>\n",
       "      <td>0.95</td>\n",
       "      <td>1.0</td>\n",
       "    </tr>\n",
       "    <tr>\n",
       "      <th>2</th>\n",
       "      <td>1</td>\n",
       "      <td>0</td>\n",
       "      <td>0</td>\n",
       "      <td>1</td>\n",
       "      <td>0</td>\n",
       "      <td>0</td>\n",
       "      <td>0</td>\n",
       "      <td>1</td>\n",
       "      <td>0</td>\n",
       "      <td>1</td>\n",
       "      <td>...</td>\n",
       "      <td>0.0</td>\n",
       "      <td>0.0</td>\n",
       "      <td>0.0</td>\n",
       "      <td>0.0</td>\n",
       "      <td>0.6</td>\n",
       "      <td>0.6</td>\n",
       "      <td>0.95</td>\n",
       "      <td>1.0</td>\n",
       "      <td>0.95</td>\n",
       "      <td>1.0</td>\n",
       "    </tr>\n",
       "    <tr>\n",
       "      <th>3</th>\n",
       "      <td>0</td>\n",
       "      <td>1</td>\n",
       "      <td>0</td>\n",
       "      <td>1</td>\n",
       "      <td>0</td>\n",
       "      <td>0</td>\n",
       "      <td>1</td>\n",
       "      <td>0</td>\n",
       "      <td>0</td>\n",
       "      <td>0</td>\n",
       "      <td>...</td>\n",
       "      <td>0.0</td>\n",
       "      <td>0.0</td>\n",
       "      <td>0.0</td>\n",
       "      <td>0.0</td>\n",
       "      <td>0.0</td>\n",
       "      <td>0.0</td>\n",
       "      <td>0.00</td>\n",
       "      <td>0.0</td>\n",
       "      <td>0.00</td>\n",
       "      <td>0.0</td>\n",
       "    </tr>\n",
       "    <tr>\n",
       "      <th>4</th>\n",
       "      <td>1</td>\n",
       "      <td>0</td>\n",
       "      <td>0</td>\n",
       "      <td>1</td>\n",
       "      <td>0</td>\n",
       "      <td>0</td>\n",
       "      <td>1</td>\n",
       "      <td>0</td>\n",
       "      <td>0</td>\n",
       "      <td>0</td>\n",
       "      <td>...</td>\n",
       "      <td>0.8</td>\n",
       "      <td>0.6</td>\n",
       "      <td>0.6</td>\n",
       "      <td>0.6</td>\n",
       "      <td>0.2</td>\n",
       "      <td>0.8</td>\n",
       "      <td>0.95</td>\n",
       "      <td>1.0</td>\n",
       "      <td>0.95</td>\n",
       "      <td>1.0</td>\n",
       "    </tr>\n",
       "    <tr>\n",
       "      <th>5</th>\n",
       "      <td>1</td>\n",
       "      <td>0</td>\n",
       "      <td>0</td>\n",
       "      <td>0</td>\n",
       "      <td>1</td>\n",
       "      <td>0</td>\n",
       "      <td>1</td>\n",
       "      <td>0</td>\n",
       "      <td>0</td>\n",
       "      <td>0</td>\n",
       "      <td>...</td>\n",
       "      <td>0.0</td>\n",
       "      <td>0.0</td>\n",
       "      <td>0.0</td>\n",
       "      <td>0.0</td>\n",
       "      <td>0.0</td>\n",
       "      <td>0.0</td>\n",
       "      <td>0.10</td>\n",
       "      <td>0.8</td>\n",
       "      <td>0.60</td>\n",
       "      <td>0.8</td>\n",
       "    </tr>\n",
       "  </tbody>\n",
       "</table>\n",
       "<p>5 rows × 71 columns</p>\n",
       "</div>"
      ],
      "text/plain": [
       "    H  M  L  EMBALLAGE  EMBALLE  NU  TOTAL OPAQUE  PART OPAQUE  PAS OPAQUE  \\\n",
       "ID                                                                           \n",
       "1   1  0  0          1        0   0             0            1           0   \n",
       "2   1  0  0          1        0   0             0            1           0   \n",
       "3   0  1  0          1        0   0             1            0           0   \n",
       "4   1  0  0          1        0   0             1            0           0   \n",
       "5   1  0  0          0        1   0             1            0           0   \n",
       "\n",
       "    PART TRANSLUCIDE  ...    SOL21  SOL22  SOL23  SOL24  SOL25  SOL26  SOL27  \\\n",
       "ID                    ...                                                      \n",
       "1                  1  ...      0.2    0.0    0.0    0.1    0.6    0.6   0.95   \n",
       "2                  1  ...      0.0    0.0    0.0    0.0    0.6    0.6   0.95   \n",
       "3                  0  ...      0.0    0.0    0.0    0.0    0.0    0.0   0.00   \n",
       "4                  0  ...      0.8    0.6    0.6    0.6    0.2    0.8   0.95   \n",
       "5                  0  ...      0.0    0.0    0.0    0.0    0.0    0.0   0.10   \n",
       "\n",
       "    SOL28  SOL29  SOL30  \n",
       "ID                       \n",
       "1     1.0   0.95    1.0  \n",
       "2     1.0   0.95    1.0  \n",
       "3     0.0   0.00    0.0  \n",
       "4     1.0   0.95    1.0  \n",
       "5     0.8   0.60    0.8  \n",
       "\n",
       "[5 rows x 71 columns]"
      ]
     },
     "execution_count": 147,
     "metadata": {},
     "output_type": "execute_result"
    }
   ],
   "source": [
    "# Pandas is used for data manipulation\n",
    "import pandas as pd\n",
    "\n",
    "# Read in data as pandas dataframe and display first 5 rows\n",
    "data = pd.read_csv('vision-complete.csv', index_col=0)\n",
    "data.head(5)"
   ]
  },
  {
   "cell_type": "code",
   "execution_count": 148,
   "metadata": {},
   "outputs": [
    {
     "name": "stdout",
     "output_type": "stream",
     "text": [
      "The shape of our features is: (34, 71)\n",
      "<class 'pandas.core.frame.DataFrame'>\n"
     ]
    }
   ],
   "source": [
    "print('The shape of our features is:', data.shape)\n",
    "print(type(data))"
   ]
  },
  {
   "cell_type": "markdown",
   "metadata": {},
   "source": [
    "## Extract the features and solutions"
   ]
  },
  {
   "cell_type": "code",
   "execution_count": 149,
   "metadata": {},
   "outputs": [
    {
     "name": "stdout",
     "output_type": "stream",
     "text": [
      "All the feature names:\n",
      "['H', 'M', 'L', 'EMBALLAGE', 'EMBALLE', 'NU', 'TOTAL OPAQUE', 'PART OPAQUE', 'PAS OPAQUE', 'PART TRANSLUCIDE', 'PAS TRANSLUCIDE', 'TOTAL TRANSPARENT', 'PART TRANSPARENT', 'PAS TRANSPARENT', 'REFLE OUI', 'REFLE NON', 'REFLE PART', 'LISSE', 'RUGUEUX', 'SURFACE REG', 'SURFACE IRREG', 'GEOM ALVEOLE', 'GEOM CONVEXE', 'GEOM ALEATOIRE', 'GEOM PLAT', 'PLIS', 'FLAP OUI', 'FLAP NON', 'OR', 'ARGENT', 'METALLISE', 'BLANC', 'BRUN', 'MULTICOULEUR', 'BEIGE', 'NOIR', 'ORANGE', 'ROUGE', 'JAUNE', 'VERT', 'BLEU']\n",
      "All the feature values:\n",
      "[[1 0 0 ... 0 0 0]\n",
      " [1 0 0 ... 0 0 0]\n",
      " [0 1 0 ... 0 0 0]\n",
      " ...\n",
      " [1 0 0 ... 0 0 0]\n",
      " [1 0 0 ... 0 0 0]\n",
      " [1 0 0 ... 0 0 0]]\n",
      "All the solution names:\n",
      "['SOL1', 'SOL2', 'SOL3', 'SOL4', 'SOL5', 'SOL6', 'SOL7', 'SOL8', 'SOL9', 'SOL10', 'SOL11', 'SOL12', 'SOL13', 'SOL14', 'SOL15', 'SOL16', 'SOL17', 'SOL18', 'SOL19', 'SOL20', 'SOL21', 'SOL22', 'SOL23', 'SOL24', 'SOL25', 'SOL26', 'SOL27', 'SOL28', 'SOL29', 'SOL30']\n",
      "All the solutions:\n",
      "[[0.   0.   0.1  ... 1.   0.95 1.  ]\n",
      " [0.   0.   0.   ... 1.   0.95 1.  ]\n",
      " [0.   0.   0.   ... 0.   0.   0.  ]\n",
      " ...\n",
      " [0.6  0.6  0.6  ... 0.8  0.6  0.8 ]\n",
      " [0.6  0.6  0.6  ... 1.   0.95 1.  ]\n",
      " [0.   0.   0.1  ... 1.   0.95 1.  ]]\n"
     ]
    }
   ],
   "source": [
    "# Use numpy to convert to arrays\n",
    "import numpy as np\n",
    "\n",
    "# Extract all solutions 1 to 30\n",
    "solutions_frame = data.loc[:,'SOL1':'SOL30']\n",
    "solutions = np.array(solutions_frame)\n",
    "\n",
    "# Remove the solutions from the features (axis 1 refers to the columns)\n",
    "features = data.drop(solutions_frame, axis = 1)\n",
    "\n",
    "# Saving feature names for later use\n",
    "feature_list = list(features.columns)\n",
    "solution_list = list(solutions_frame.columns)\n",
    "\n",
    "# Convert to numpy array\n",
    "features = np.array(features)\n",
    "\n",
    "print(\"All the feature names:\")\n",
    "print(feature_list)\n",
    "\n",
    "print(\"All the feature values:\")\n",
    "print(features)\n",
    "\n",
    "print(\"All the solution names:\")\n",
    "print(solution_list)\n",
    "\n",
    "print(\"All the solutions:\")\n",
    "print(solutions)\n"
   ]
  },
  {
   "cell_type": "markdown",
   "metadata": {},
   "source": [
    "## Training and Testing Sets"
   ]
  },
  {
   "cell_type": "code",
   "execution_count": 150,
   "metadata": {},
   "outputs": [
    {
     "name": "stdout",
     "output_type": "stream",
     "text": [
      "Training Features  Shape: (25, 41)\n",
      "Training Solutions Shape: (25, 30)\n",
      "Testing  Features  Shape: (9, 41)\n",
      "Testing  Solutions Shape: (9, 30)\n"
     ]
    }
   ],
   "source": [
    "# Using Skicit-learn to split data into training and testing sets\n",
    "from sklearn.model_selection import train_test_split\n",
    "\n",
    "# Split the data into training and testing sets\n",
    "train_features, test_features, train_solutions, test_solutions = train_test_split(features, solutions, test_size = 0.25,\n",
    "                                                                                  random_state = 42)\n",
    "\n",
    "print('Training Features  Shape:', train_features.shape)\n",
    "print('Training Solutions Shape:', train_solutions.shape)\n",
    "print('Testing  Features  Shape:', test_features.shape)\n",
    "print('Testing  Solutions Shape:', test_solutions.shape)"
   ]
  },
  {
   "cell_type": "markdown",
   "metadata": {},
   "source": [
    "## Training the data"
   ]
  },
  {
   "cell_type": "code",
   "execution_count": 151,
   "metadata": {},
   "outputs": [],
   "source": [
    "# Import the model we are using\n",
    "from sklearn.ensemble import RandomForestRegressor\n",
    "\n",
    "# Instantiate model \n",
    "rf = RandomForestRegressor(n_estimators=100, max_depth=None, random_state=42)\n",
    "\n",
    "# Train the model on training data\n",
    "rf.fit(train_features, train_solutions);"
   ]
  },
  {
   "cell_type": "markdown",
   "metadata": {},
   "source": [
    "## Make Predictions on Test Data"
   ]
  },
  {
   "cell_type": "code",
   "execution_count": 152,
   "metadata": {},
   "outputs": [
    {
     "name": "stdout",
     "output_type": "stream",
     "text": [
      "Mean Absolute Error (MAE)      : 0.29524313492063486\n",
      "Mean Squared Error (MSE)       : 0.12523393289232435\n",
      "Root Mean Squared Error (RMSE) : 0.35388406702241393\n"
     ]
    }
   ],
   "source": [
    "# import metrics\n",
    "from sklearn import metrics\n",
    "\n",
    "# Use the forest's predict method on the test data\n",
    "predictions_rf = rf.predict(test_features)\n",
    "\n",
    "# Print out the error\n",
    "print('Mean Absolute Error (MAE)      :', metrics.mean_absolute_error(test_solutions, predictions_rf))\n",
    "print('Mean Squared Error (MSE)       :', metrics.mean_squared_error(test_solutions, predictions_rf))\n",
    "print('Root Mean Squared Error (RMSE) :', np.sqrt(metrics.mean_squared_error(test_solutions, predictions_rf)))\n"
   ]
  },
  {
   "cell_type": "markdown",
   "metadata": {},
   "source": [
    "## Feature importance"
   ]
  },
  {
   "cell_type": "code",
   "execution_count": 153,
   "metadata": {},
   "outputs": [
    {
     "data": {
      "image/png": "[encoded data removed]",
      "text/plain": [
       "<matplotlib.figure.Figure at 0x1a17511518>"
      ]
     },
     "metadata": {},
     "output_type": "display_data"
    }
   ],
   "source": [
    "# Import matplotlib for plotting and use magic command for Jupyter Notebooks\n",
    "import matplotlib.pyplot as plt\n",
    "\n",
    "%matplotlib inline\n",
    "\n",
    "# Get numerical feature importances\n",
    "importances = list(rf.feature_importances_)\n",
    "\n",
    "# List of tuples with variable and importance\n",
    "feature_importances = [(feature, round(importance, 2)) for feature, importance in zip(feature_list, importances)]\n",
    "\n",
    "# Sort the feature importances by most important first\n",
    "feature_importances = sorted(feature_importances, key = lambda x: x[1], reverse = True)\n",
    "unzipped = list(zip(*feature_importances))\n",
    "\n",
    "# Print out the feature and importances \n",
    "#[print('Variable: {:20} Importance: {}'.format(*pair)) for pair in feature_importances];\n",
    "\n",
    "# Set the style\n",
    "plt.style.use('fivethirtyeight')\n",
    "plt.rcParams[\"figure.figsize\"] = [20.0, 10.0]\n",
    "\n",
    "# list of x locations for plotting\n",
    "x_values = list(range(len(importances)))\n",
    "\n",
    "# Make a bar chart\n",
    "plt.bar(x_values, list(unzipped[1]), orientation = 'vertical')\n",
    "\n",
    "# Tick labels for x axis\n",
    "plt.xticks(x_values, list(unzipped[0]), rotation='vertical')\n",
    "\n",
    "# Axis labels and title\n",
    "plt.ylabel('Importance'); \n",
    "plt.xlabel('Variable'); \n",
    "plt.title('Variable Importances'); "
   ]
  },
  {
   "cell_type": "markdown",
   "metadata": {},
   "source": [
    "## Grid search\n",
    "\n",
    "Explores all random forests with all parameter permutations => **216 permutations**"
   ]
  },
  {
   "cell_type": "code",
   "execution_count": 154,
   "metadata": {},
   "outputs": [
    {
     "name": "stdout",
     "output_type": "stream",
     "text": [
      "GridSearchCV took 95.18 seconds for 216 candidate parameter settings.\n",
      "Model with rank: 1\n",
      "Mean validation score: 0.085 (std: 0.112)\n",
      "Parameters: {'bootstrap': False, 'criterion': 'mse', 'max_depth': 3, 'max_features': 3, 'min_samples_leaf': 1, 'min_samples_split': 2}\n",
      "\n",
      "Model with rank: 2\n",
      "Mean validation score: 0.077 (std: 0.123)\n",
      "Parameters: {'bootstrap': False, 'criterion': 'mae', 'max_depth': None, 'max_features': 3, 'min_samples_leaf': 1, 'min_samples_split': 3}\n",
      "\n",
      "Model with rank: 3\n",
      "Mean validation score: 0.074 (std: 0.115)\n",
      "Parameters: {'bootstrap': False, 'criterion': 'mse', 'max_depth': 3, 'max_features': 3, 'min_samples_leaf': 1, 'min_samples_split': 3}\n",
      "\n"
     ]
    }
   ],
   "source": [
    "from time import time\n",
    "from scipy.stats import randint as sp_randint\n",
    "\n",
    "from sklearn.model_selection import GridSearchCV\n",
    "\n",
    "# Utility function to report best scores\n",
    "def report(results, n_top=3):\n",
    "    for i in range(1, n_top + 1):\n",
    "        candidates = np.flatnonzero(results['rank_test_score'] == i)\n",
    "        for candidate in candidates:\n",
    "            print(\"Model with rank: {0}\".format(i))\n",
    "            print(\"Mean validation score: {0:.3f} (std: {1:.3f})\".format(\n",
    "                  results['mean_test_score'][candidate],\n",
    "                  results['std_test_score'][candidate]))\n",
    "            print(\"Parameters: {0}\".format(results['params'][candidate]))\n",
    "            print(\"\")\n",
    "\n",
    "# use a full grid over all parameters (216 combinations)\n",
    "param_grid = {\"max_depth\": [3, None],\n",
    "              \"max_features\": [3, 10, 41],\n",
    "              \"min_samples_split\": [2, 3, 10],\n",
    "              \"min_samples_leaf\": [1, 3, 10],\n",
    "              \"bootstrap\": [True, False],\n",
    "              \"criterion\": [\"mse\", \"mae\"]}\n",
    "\n",
    "# run grid search\n",
    "grid_search = GridSearchCV(rf, param_grid=param_grid)\n",
    "start = time()\n",
    "grid_search.fit(train_features, train_solutions)\n",
    "\n",
    "print(\"GridSearchCV took %.2f seconds for %d candidate parameter settings.\"\n",
    "      % (time() - start, len(grid_search.cv_results_['params'])))\n",
    "report(grid_search.cv_results_)"
   ]
  },
  {
   "cell_type": "markdown",
   "metadata": {},
   "source": [
    "## Randomized search\n",
    "\n",
    "Explores random forests with a random set of permutations => **?? permutations**"
   ]
  },
  {
   "cell_type": "code",
   "execution_count": 155,
   "metadata": {},
   "outputs": [
    {
     "name": "stdout",
     "output_type": "stream",
     "text": [
      "RandomizedSearchCV took 6.63 seconds for 20 candidates parameter settings.\n",
      "Model with rank: 1\n",
      "Mean validation score: -0.071 (std: 0.157)\n",
      "Parameters: {'bootstrap': True, 'criterion': 'mse', 'max_depth': 3, 'max_features': 27, 'min_samples_leaf': 1, 'min_samples_split': 10}\n",
      "\n",
      "Model with rank: 2\n",
      "Mean validation score: -0.142 (std: 0.088)\n",
      "Parameters: {'bootstrap': False, 'criterion': 'mse', 'max_depth': 3, 'max_features': 27, 'min_samples_leaf': 24, 'min_samples_split': 19}\n",
      "\n",
      "Model with rank: 2\n",
      "Mean validation score: -0.142 (std: 0.088)\n",
      "Parameters: {'bootstrap': False, 'criterion': 'mse', 'max_depth': 3, 'max_features': 15, 'min_samples_leaf': 36, 'min_samples_split': 37}\n",
      "\n",
      "Model with rank: 2\n",
      "Mean validation score: -0.142 (std: 0.088)\n",
      "Parameters: {'bootstrap': False, 'criterion': 'mse', 'max_depth': None, 'max_features': 40, 'min_samples_leaf': 25, 'min_samples_split': 19}\n",
      "\n",
      "Model with rank: 2\n",
      "Mean validation score: -0.142 (std: 0.088)\n",
      "Parameters: {'bootstrap': False, 'criterion': 'mse', 'max_depth': None, 'max_features': 30, 'min_samples_leaf': 34, 'min_samples_split': 23}\n",
      "\n",
      "Model with rank: 2\n",
      "Mean validation score: -0.142 (std: 0.088)\n",
      "Parameters: {'bootstrap': False, 'criterion': 'mse', 'max_depth': None, 'max_features': 34, 'min_samples_leaf': 28, 'min_samples_split': 6}\n",
      "\n",
      "Model with rank: 2\n",
      "Mean validation score: -0.142 (std: 0.088)\n",
      "Parameters: {'bootstrap': False, 'criterion': 'mse', 'max_depth': 3, 'max_features': 18, 'min_samples_leaf': 14, 'min_samples_split': 39}\n",
      "\n"
     ]
    }
   ],
   "source": [
    "from sklearn.model_selection import RandomizedSearchCV\n",
    "\n",
    "# specify parameters and distributions to sample from\n",
    "param_dist_rf = {\"max_depth\": [3, None],\n",
    "              \"max_features\": sp_randint(1, 41),\n",
    "              \"min_samples_split\": sp_randint(2, 41),\n",
    "              \"min_samples_leaf\": sp_randint(1, 41),\n",
    "              \"bootstrap\": [True, False],\n",
    "              \"criterion\": [\"mse\", \"mae\"]}\n",
    "\n",
    "# run randomized search\n",
    "n_iter_search = 20\n",
    "random_search = RandomizedSearchCV(rf, param_distributions=param_dist_rf,\n",
    "                                   n_iter=n_iter_search)\n",
    "\n",
    "start = time()\n",
    "random_search.fit(train_features, train_solutions)\n",
    "print(\"RandomizedSearchCV took %.2f seconds for %d candidates\"\n",
    "      \" parameter settings.\" % ((time() - start), n_iter_search))\n",
    "report(random_search.cv_results_)"
   ]
  },
  {
   "cell_type": "markdown",
   "metadata": {},
   "source": [
    "## Visualizing a Single Decision Tree"
   ]
  },
  {
   "cell_type": "code",
   "execution_count": 156,
   "metadata": {},
   "outputs": [
    {
     "name": "stdout",
     "output_type": "stream",
     "text": [
      "The depth of this tree is: 8\n"
     ]
    }
   ],
   "source": [
    "# Import tools needed for visualization\n",
    "from sklearn.tree import export_graphviz\n",
    "import pydot\n",
    "\n",
    "# Pull out one tree from the forest\n",
    "tree = rf.estimators_[5]\n",
    "\n",
    "# Export the image to a dot file\n",
    "export_graphviz(tree, out_file = 'sample_tree.dot', feature_names = feature_list, rounded = True, precision = 1)\n",
    "\n",
    "# Use dot file to create a graph\n",
    "(graph, ) = pydot.graph_from_dot_file('sample_tree.dot')\n",
    "\n",
    "# Write graph to a png file\n",
    "graph.write_png('sample_tree.png'); \n",
    "\n",
    "print('The depth of this tree is:', tree.tree_.max_depth)"
   ]
  },
  {
   "cell_type": "markdown",
   "metadata": {},
   "source": [
    "![Sample tree](sample_tree.png)"
   ]
  },
  {
   "cell_type": "code",
   "execution_count": 157,
   "metadata": {},
   "outputs": [
    {
     "data": {
      "application/vnd.jupyter.widget-view+json": {
       "model_id": "4ae9b1a781c0405c9d3f30e7eb6d6436",
       "version_major": 2,
       "version_minor": 0
      },
      "text/html": [
       "<p>Failed to display Jupyter Widget of type <code>HTML</code>.</p>\n",
       "<p>\n",
       "  If you're reading this message in the Jupyter Notebook or JupyterLab Notebook, it may mean\n",
       "  that the widgets JavaScript is still loading. If this message persists, it\n",
       "  likely means that the widgets JavaScript library is either not installed or\n",
       "  not enabled. See the <a href=\"https://ipywidgets.readthedocs.io/en/stable/user_install.html\">Jupyter\n",
       "  Widgets Documentation</a> for setup instructions.\n",
       "</p>\n",
       "<p>\n",
       "  If you're reading this message in another frontend (for example, a static\n",
       "  rendering on GitHub or <a href=\"https://nbviewer.jupyter.org/\">NBViewer</a>),\n",
       "  it may mean that your frontend doesn't currently support widgets.\n",
       "</p>\n"
      ],
      "text/plain": [
       "HTML(value='<h3>Sélectionnez les qualités du produit:</h3>')"
      ]
     },
     "metadata": {},
     "output_type": "display_data"
    },
    {
     "data": {
      "application/vnd.jupyter.widget-view+json": {
       "model_id": "fbb13cfa00e94959bcdc348ca85c4909",
       "version_major": 2,
       "version_minor": 0
      },
      "text/html": [
       "<p>Failed to display Jupyter Widget of type <code>Dropdown</code>.</p>\n",
       "<p>\n",
       "  If you're reading this message in the Jupyter Notebook or JupyterLab Notebook, it may mean\n",
       "  that the widgets JavaScript is still loading. If this message persists, it\n",
       "  likely means that the widgets JavaScript library is either not installed or\n",
       "  not enabled. See the <a href=\"https://ipywidgets.readthedocs.io/en/stable/user_install.html\">Jupyter\n",
       "  Widgets Documentation</a> for setup instructions.\n",
       "</p>\n",
       "<p>\n",
       "  If you're reading this message in another frontend (for example, a static\n",
       "  rendering on GitHub or <a href=\"https://nbviewer.jupyter.org/\">NBViewer</a>),\n",
       "  it may mean that your frontend doesn't currently support widgets.\n",
       "</p>\n"
      ],
      "text/plain": [
       "Dropdown(description='Importance:', options={'Haute': 4, 'Moyenne': 2, 'Basse': 1}, value=4)"
      ]
     },
     "metadata": {},
     "output_type": "display_data"
    },
    {
     "data": {
      "application/vnd.jupyter.widget-view+json": {
       "model_id": "9736e742fa7b4f75b3efe1bf75f73e6c",
       "version_major": 2,
       "version_minor": 0
      },
      "text/html": [
       "<p>Failed to display Jupyter Widget of type <code>Dropdown</code>.</p>\n",
       "<p>\n",
       "  If you're reading this message in the Jupyter Notebook or JupyterLab Notebook, it may mean\n",
       "  that the widgets JavaScript is still loading. If this message persists, it\n",
       "  likely means that the widgets JavaScript library is either not installed or\n",
       "  not enabled. See the <a href=\"https://ipywidgets.readthedocs.io/en/stable/user_install.html\">Jupyter\n",
       "  Widgets Documentation</a> for setup instructions.\n",
       "</p>\n",
       "<p>\n",
       "  If you're reading this message in another frontend (for example, a static\n",
       "  rendering on GitHub or <a href=\"https://nbviewer.jupyter.org/\">NBViewer</a>),\n",
       "  it may mean that your frontend doesn't currently support widgets.\n",
       "</p>\n"
      ],
      "text/plain": [
       "Dropdown(description='Type de produit:', options={'Emballage': 4, 'Emballé': 2, 'Nu': 1}, value=4)"
      ]
     },
     "metadata": {},
     "output_type": "display_data"
    },
    {
     "data": {
      "application/vnd.jupyter.widget-view+json": {
       "model_id": "d85b458ed18048edaa7b03cec300e5f6",
       "version_major": 2,
       "version_minor": 0
      },
      "text/html": [
       "<p>Failed to display Jupyter Widget of type <code>Dropdown</code>.</p>\n",
       "<p>\n",
       "  If you're reading this message in the Jupyter Notebook or JupyterLab Notebook, it may mean\n",
       "  that the widgets JavaScript is still loading. If this message persists, it\n",
       "  likely means that the widgets JavaScript library is either not installed or\n",
       "  not enabled. See the <a href=\"https://ipywidgets.readthedocs.io/en/stable/user_install.html\">Jupyter\n",
       "  Widgets Documentation</a> for setup instructions.\n",
       "</p>\n",
       "<p>\n",
       "  If you're reading this message in another frontend (for example, a static\n",
       "  rendering on GitHub or <a href=\"https://nbviewer.jupyter.org/\">NBViewer</a>),\n",
       "  it may mean that your frontend doesn't currently support widgets.\n",
       "</p>\n"
      ],
      "text/plain": [
       "Dropdown(description='Opacité:', options={'Totalement': 4, 'Partiellement': 2, 'Non': 1}, value=4)"
      ]
     },
     "metadata": {},
     "output_type": "display_data"
    },
    {
     "data": {
      "application/vnd.jupyter.widget-view+json": {
       "model_id": "f9159021ff8243c9b8ca506ee7447f1e",
       "version_major": 2,
       "version_minor": 0
      },
      "text/html": [
       "<p>Failed to display Jupyter Widget of type <code>Dropdown</code>.</p>\n",
       "<p>\n",
       "  If you're reading this message in the Jupyter Notebook or JupyterLab Notebook, it may mean\n",
       "  that the widgets JavaScript is still loading. If this message persists, it\n",
       "  likely means that the widgets JavaScript library is either not installed or\n",
       "  not enabled. See the <a href=\"https://ipywidgets.readthedocs.io/en/stable/user_install.html\">Jupyter\n",
       "  Widgets Documentation</a> for setup instructions.\n",
       "</p>\n",
       "<p>\n",
       "  If you're reading this message in another frontend (for example, a static\n",
       "  rendering on GitHub or <a href=\"https://nbviewer.jupyter.org/\">NBViewer</a>),\n",
       "  it may mean that your frontend doesn't currently support widgets.\n",
       "</p>\n"
      ],
      "text/plain": [
       "Dropdown(description='Translucidité:', options={'Partiellement': 2, 'Non': 1}, value=2)"
      ]
     },
     "metadata": {},
     "output_type": "display_data"
    },
    {
     "data": {
      "application/vnd.jupyter.widget-view+json": {
       "model_id": "4c6b2cc09ac04b2d8777772cdf664e6c",
       "version_major": 2,
       "version_minor": 0
      },
      "text/html": [
       "<p>Failed to display Jupyter Widget of type <code>Dropdown</code>.</p>\n",
       "<p>\n",
       "  If you're reading this message in the Jupyter Notebook or JupyterLab Notebook, it may mean\n",
       "  that the widgets JavaScript is still loading. If this message persists, it\n",
       "  likely means that the widgets JavaScript library is either not installed or\n",
       "  not enabled. See the <a href=\"https://ipywidgets.readthedocs.io/en/stable/user_install.html\">Jupyter\n",
       "  Widgets Documentation</a> for setup instructions.\n",
       "</p>\n",
       "<p>\n",
       "  If you're reading this message in another frontend (for example, a static\n",
       "  rendering on GitHub or <a href=\"https://nbviewer.jupyter.org/\">NBViewer</a>),\n",
       "  it may mean that your frontend doesn't currently support widgets.\n",
       "</p>\n"
      ],
      "text/plain": [
       "Dropdown(description='Transparence:', options={'Totalement': 4, 'Partiellement': 2, 'Non': 1}, value=4)"
      ]
     },
     "metadata": {},
     "output_type": "display_data"
    },
    {
     "data": {
      "application/vnd.jupyter.widget-view+json": {
       "model_id": "7bcebeeedaa74e0c9695e62d0ccda9ee",
       "version_major": 2,
       "version_minor": 0
      },
      "text/html": [
       "<p>Failed to display Jupyter Widget of type <code>SelectMultiple</code>.</p>\n",
       "<p>\n",
       "  If you're reading this message in the Jupyter Notebook or JupyterLab Notebook, it may mean\n",
       "  that the widgets JavaScript is still loading. If this message persists, it\n",
       "  likely means that the widgets JavaScript library is either not installed or\n",
       "  not enabled. See the <a href=\"https://ipywidgets.readthedocs.io/en/stable/user_install.html\">Jupyter\n",
       "  Widgets Documentation</a> for setup instructions.\n",
       "</p>\n",
       "<p>\n",
       "  If you're reading this message in another frontend (for example, a static\n",
       "  rendering on GitHub or <a href=\"https://nbviewer.jupyter.org/\">NBViewer</a>),\n",
       "  it may mean that your frontend doesn't currently support widgets.\n",
       "</p>\n"
      ],
      "text/plain": [
       "SelectMultiple(description='Réflexion:', options={'Oui': 4, 'Non': 2, 'Partiellement': 1}, rows=3, value=())"
      ]
     },
     "metadata": {},
     "output_type": "display_data"
    },
    {
     "data": {
      "application/vnd.jupyter.widget-view+json": {
       "model_id": "0f88485bf3684be99a60996714f0d17e",
       "version_major": 2,
       "version_minor": 0
      },
      "text/html": [
       "<p>Failed to display Jupyter Widget of type <code>SelectMultiple</code>.</p>\n",
       "<p>\n",
       "  If you're reading this message in the Jupyter Notebook or JupyterLab Notebook, it may mean\n",
       "  that the widgets JavaScript is still loading. If this message persists, it\n",
       "  likely means that the widgets JavaScript library is either not installed or\n",
       "  not enabled. See the <a href=\"https://ipywidgets.readthedocs.io/en/stable/user_install.html\">Jupyter\n",
       "  Widgets Documentation</a> for setup instructions.\n",
       "</p>\n",
       "<p>\n",
       "  If you're reading this message in another frontend (for example, a static\n",
       "  rendering on GitHub or <a href=\"https://nbviewer.jupyter.org/\">NBViewer</a>),\n",
       "  it may mean that your frontend doesn't currently support widgets.\n",
       "</p>\n"
      ],
      "text/plain": [
       "SelectMultiple(description='Rugosité:', options={'Lisse': 2, 'Rugueux': 1}, rows=2, value=())"
      ]
     },
     "metadata": {},
     "output_type": "display_data"
    },
    {
     "data": {
      "application/vnd.jupyter.widget-view+json": {
       "model_id": "b38e0234c8c84f2e93f57e7cabe2190a",
       "version_major": 2,
       "version_minor": 0
      },
      "text/html": [
       "<p>Failed to display Jupyter Widget of type <code>SelectMultiple</code>.</p>\n",
       "<p>\n",
       "  If you're reading this message in the Jupyter Notebook or JupyterLab Notebook, it may mean\n",
       "  that the widgets JavaScript is still loading. If this message persists, it\n",
       "  likely means that the widgets JavaScript library is either not installed or\n",
       "  not enabled. See the <a href=\"https://ipywidgets.readthedocs.io/en/stable/user_install.html\">Jupyter\n",
       "  Widgets Documentation</a> for setup instructions.\n",
       "</p>\n",
       "<p>\n",
       "  If you're reading this message in another frontend (for example, a static\n",
       "  rendering on GitHub or <a href=\"https://nbviewer.jupyter.org/\">NBViewer</a>),\n",
       "  it may mean that your frontend doesn't currently support widgets.\n",
       "</p>\n"
      ],
      "text/plain": [
       "SelectMultiple(description='Surface:', options={'Régulière': 2, 'Irrégulière': 1}, rows=2, value=())"
      ]
     },
     "metadata": {},
     "output_type": "display_data"
    },
    {
     "data": {
      "application/vnd.jupyter.widget-view+json": {
       "model_id": "c8cc873497b241619a15f17ce3c51a56",
       "version_major": 2,
       "version_minor": 0
      },
      "text/html": [
       "<p>Failed to display Jupyter Widget of type <code>SelectMultiple</code>.</p>\n",
       "<p>\n",
       "  If you're reading this message in the Jupyter Notebook or JupyterLab Notebook, it may mean\n",
       "  that the widgets JavaScript is still loading. If this message persists, it\n",
       "  likely means that the widgets JavaScript library is either not installed or\n",
       "  not enabled. See the <a href=\"https://ipywidgets.readthedocs.io/en/stable/user_install.html\">Jupyter\n",
       "  Widgets Documentation</a> for setup instructions.\n",
       "</p>\n",
       "<p>\n",
       "  If you're reading this message in another frontend (for example, a static\n",
       "  rendering on GitHub or <a href=\"https://nbviewer.jupyter.org/\">NBViewer</a>),\n",
       "  it may mean that your frontend doesn't currently support widgets.\n",
       "</p>\n"
      ],
      "text/plain": [
       "SelectMultiple(description='Géométrie:', options={'Alvéolé': 8, 'Convexe': 4, 'Aléatoire': 2, 'Plat': 1}, rows=4, value=())"
      ]
     },
     "metadata": {},
     "output_type": "display_data"
    },
    {
     "data": {
      "application/vnd.jupyter.widget-view+json": {
       "model_id": "0a28b96adc3b400b90942e1dc13d6ac3",
       "version_major": 2,
       "version_minor": 0
      },
      "text/html": [
       "<p>Failed to display Jupyter Widget of type <code>Dropdown</code>.</p>\n",
       "<p>\n",
       "  If you're reading this message in the Jupyter Notebook or JupyterLab Notebook, it may mean\n",
       "  that the widgets JavaScript is still loading. If this message persists, it\n",
       "  likely means that the widgets JavaScript library is either not installed or\n",
       "  not enabled. See the <a href=\"https://ipywidgets.readthedocs.io/en/stable/user_install.html\">Jupyter\n",
       "  Widgets Documentation</a> for setup instructions.\n",
       "</p>\n",
       "<p>\n",
       "  If you're reading this message in another frontend (for example, a static\n",
       "  rendering on GitHub or <a href=\"https://nbviewer.jupyter.org/\">NBViewer</a>),\n",
       "  it may mean that your frontend doesn't currently support widgets.\n",
       "</p>\n"
      ],
      "text/plain": [
       "Dropdown(description='Plis:', options={'Oui': 1, 'Non': 0}, value=1)"
      ]
     },
     "metadata": {},
     "output_type": "display_data"
    },
    {
     "data": {
      "application/vnd.jupyter.widget-view+json": {
       "model_id": "5d8892ac59e349bb81c27db052b074be",
       "version_major": 2,
       "version_minor": 0
      },
      "text/html": [
       "<p>Failed to display Jupyter Widget of type <code>SelectMultiple</code>.</p>\n",
       "<p>\n",
       "  If you're reading this message in the Jupyter Notebook or JupyterLab Notebook, it may mean\n",
       "  that the widgets JavaScript is still loading. If this message persists, it\n",
       "  likely means that the widgets JavaScript library is either not installed or\n",
       "  not enabled. See the <a href=\"https://ipywidgets.readthedocs.io/en/stable/user_install.html\">Jupyter\n",
       "  Widgets Documentation</a> for setup instructions.\n",
       "</p>\n",
       "<p>\n",
       "  If you're reading this message in another frontend (for example, a static\n",
       "  rendering on GitHub or <a href=\"https://nbviewer.jupyter.org/\">NBViewer</a>),\n",
       "  it may mean that your frontend doesn't currently support widgets.\n",
       "</p>\n"
      ],
      "text/plain": [
       "SelectMultiple(description='Flaps:', options={'Oui': 2, 'Non': 1}, rows=2, value=())"
      ]
     },
     "metadata": {},
     "output_type": "display_data"
    },
    {
     "data": {
      "application/vnd.jupyter.widget-view+json": {
       "model_id": "ec594603df6b4a9dbc09e49f3fb69865",
       "version_major": 2,
       "version_minor": 0
      },
      "text/html": [
       "<p>Failed to display Jupyter Widget of type <code>SelectMultiple</code>.</p>\n",
       "<p>\n",
       "  If you're reading this message in the Jupyter Notebook or JupyterLab Notebook, it may mean\n",
       "  that the widgets JavaScript is still loading. If this message persists, it\n",
       "  likely means that the widgets JavaScript library is either not installed or\n",
       "  not enabled. See the <a href=\"https://ipywidgets.readthedocs.io/en/stable/user_install.html\">Jupyter\n",
       "  Widgets Documentation</a> for setup instructions.\n",
       "</p>\n",
       "<p>\n",
       "  If you're reading this message in another frontend (for example, a static\n",
       "  rendering on GitHub or <a href=\"https://nbviewer.jupyter.org/\">NBViewer</a>),\n",
       "  it may mean that your frontend doesn't currently support widgets.\n",
       "</p>\n"
      ],
      "text/plain": [
       "SelectMultiple(description='Couleur:', options={'Argent': 4096, 'Aucune': 2048, 'Beige': 1024, 'Blanc': 512, 'Bleu': 256, 'Brun': 128, 'Jaune': 64, 'Métallisé': 32, 'Multicouleur': 16, 'Noir': 8, 'Or': 4, 'Orange': 2, 'Rouge': 1}, rows=13, value=())"
      ]
     },
     "metadata": {},
     "output_type": "display_data"
    },
    {
     "data": {
      "application/vnd.jupyter.widget-view+json": {
       "model_id": "774e0d9767464c0fbdc9acfaf6d9cced",
       "version_major": 2,
       "version_minor": 0
      },
      "text/html": [
       "<p>Failed to display Jupyter Widget of type <code>Button</code>.</p>\n",
       "<p>\n",
       "  If you're reading this message in the Jupyter Notebook or JupyterLab Notebook, it may mean\n",
       "  that the widgets JavaScript is still loading. If this message persists, it\n",
       "  likely means that the widgets JavaScript library is either not installed or\n",
       "  not enabled. See the <a href=\"https://ipywidgets.readthedocs.io/en/stable/user_install.html\">Jupyter\n",
       "  Widgets Documentation</a> for setup instructions.\n",
       "</p>\n",
       "<p>\n",
       "  If you're reading this message in another frontend (for example, a static\n",
       "  rendering on GitHub or <a href=\"https://nbviewer.jupyter.org/\">NBViewer</a>),\n",
       "  it may mean that your frontend doesn't currently support widgets.\n",
       "</p>\n"
      ],
      "text/plain": [
       "Button(description='Rechercher', icon='cog', style=ButtonStyle(), tooltip='Rechercher')"
      ]
     },
     "metadata": {},
     "output_type": "display_data"
    }
   ],
   "source": [
    "from ipywidgets import widgets\n",
    "\n",
    "# create form\n",
    "display(widgets.HTML(\n",
    "    value=\"<h3>Sélectionnez les qualités du produit:</h3>\"\n",
    "))\n",
    "\n",
    "importance = widgets.Dropdown(\n",
    "    options={'Haute': 4, 'Moyenne': 2, 'Basse': 1},\n",
    "    value=4,\n",
    "    description='Importance:',\n",
    "    disabled=False,\n",
    ")\n",
    "\n",
    "product = widgets.Dropdown(\n",
    "    options={'Emballage': 4, 'Emballé': 2, 'Nu': 1},\n",
    "    value=4,\n",
    "    description='Type de produit:',\n",
    "    disabled=False,\n",
    ")\n",
    "\n",
    "opacity = widgets.Dropdown(\n",
    "    options={'Totalement': 4, 'Partiellement': 2, 'Non': 1},\n",
    "    value=4,\n",
    "    description='Opacité:',\n",
    "    disabled=False,\n",
    ")\n",
    "\n",
    "translucid = widgets.Dropdown(\n",
    "    options={'Partiellement': 2, 'Non': 1},\n",
    "    value=2,\n",
    "    description='Translucidité:',\n",
    "    disabled=False,\n",
    ")\n",
    "\n",
    "transparency = widgets.Dropdown(\n",
    "    options={'Totalement': 4, 'Partiellement': 2, 'Non': 1},\n",
    "    value=4,\n",
    "    description='Transparence:',\n",
    "    disabled=False,\n",
    ")\n",
    "\n",
    "reflexion = widgets.SelectMultiple(\n",
    "    options={'Oui': 4, 'Non': 2, 'Partiellement': 1},\n",
    "    value=[],\n",
    "    description='Réflexion:',\n",
    "    disabled=False,\n",
    "    rows=3\n",
    ")\n",
    "\n",
    "roughness = widgets.SelectMultiple(\n",
    "    options={'Lisse': 2, 'Rugueux': 1},\n",
    "    value=[],\n",
    "    description='Rugosité:',\n",
    "    disabled=False,\n",
    "    rows=2\n",
    ")\n",
    "\n",
    "surface = widgets.SelectMultiple(\n",
    "    options={'Régulière': 2, 'Irrégulière': 1},\n",
    "    value=[],\n",
    "    description='Surface:',\n",
    "    disabled=False,\n",
    "    rows=2\n",
    ")\n",
    "\n",
    "geometry = widgets.SelectMultiple(\n",
    "    options={'Alvéolé': 8, 'Convexe': 4, 'Aléatoire': 2, 'Plat': 1},\n",
    "    value=[],\n",
    "    description='Géométrie:',\n",
    "    disabled=False,\n",
    "    rows=4\n",
    ")\n",
    "\n",
    "folds = widgets.Dropdown(\n",
    "    options={'Oui': 1, 'Non': 0},\n",
    "    value=1,\n",
    "    description='Plis:',\n",
    "    disabled=False,\n",
    ")\n",
    "\n",
    "flaps = widgets.SelectMultiple(\n",
    "    options={'Oui': 2, 'Non': 1},\n",
    "    value=[],\n",
    "    description='Flaps:',\n",
    "    disabled=False,\n",
    "    rows=2\n",
    ")\n",
    "\n",
    "color = widgets.SelectMultiple(\n",
    "    options={'Argent': 4096, 'Aucune': 2048, 'Beige': 1024, 'Blanc': 512, 'Bleu': 256, 'Brun': 128, 'Jaune': 64, 'Métallisé': 32, 'Multicouleur': 16, 'Noir': 8, 'Or': 4, 'Orange': 2, 'Rouge': 1},\n",
    "    value=[],\n",
    "    description='Couleur:',\n",
    "    disabled=False,\n",
    "    rows=13\n",
    ")\n",
    "\n",
    "search = widgets.Button(\n",
    "    description='Rechercher',\n",
    "    disabled=False,\n",
    "    button_style='', # 'success', 'info', 'warning', 'danger' or ''\n",
    "    tooltip='Rechercher',\n",
    "    icon='cog'\n",
    ")\n",
    "\n",
    "# display form\n",
    "display(importance)\n",
    "display(product)\n",
    "display(opacity)\n",
    "display(translucid)\n",
    "display(transparency)\n",
    "display(reflexion)\n",
    "display(roughness)\n",
    "display(surface)\n",
    "display(geometry)\n",
    "display(folds)\n",
    "display(flaps)\n",
    "display(color)\n",
    "display(search)\n",
    "\n",
    "# figure out the best solution on submission\n",
    "def submit(button):\n",
    "    # create feature vector\n",
    "    selected_features = []\n",
    "    selected_features += list('{0:03b}'.format(importance.value))\n",
    "    selected_features += list('{0:03b}'.format(product.value))\n",
    "    selected_features += list('{0:03b}'.format(opacity.value))\n",
    "    selected_features += list('{0:02b}'.format(translucid.value))\n",
    "    selected_features += list('{0:03b}'.format(transparency.value))\n",
    "    selected_features += list('{0:03b}'.format(sum(reflexion.value)))\n",
    "    selected_features += list('{0:02b}'.format(sum(roughness.value)))\n",
    "    selected_features += list('{0:02b}'.format(sum(surface.value)))\n",
    "    selected_features += list('{0:04b}'.format(sum(geometry.value)))\n",
    "    selected_features += list('{0:0b}'.format(folds.value))\n",
    "    selected_features += list('{0:02b}'.format(sum(flaps.value)))\n",
    "    selected_features += list('{0:013b}'.format(sum(color.value)))\n",
    "    \n",
    "    # instantiate model\n",
    "    rf = RandomForestRegressor(n_estimators=100, max_depth=None, random_state=42)\n",
    "    # train the model on the full data set\n",
    "    rf.fit(features, solutions);\n",
    "    # predict the solutions\n",
    "    selected_features = np.array(selected_features).reshape(1, -1)\n",
    "    solutions_pred = rf.predict(selected_features)\n",
    "\n",
    "    # plot the solutions\n",
    "    x_values = list(range(len(solution_list)))\n",
    "    plt.bar(x_values, solutions_pred.reshape(-1), orientation = 'vertical')\n",
    "    plt.xticks(x_values, solution_list, rotation='vertical')\n",
    "    plt.ylabel('Probability'); \n",
    "    plt.xlabel('Solutions'); \n",
    "    plt.title('Predicted solutions'); \n",
    "\n",
    "search.on_click(submit)"
   ]
  },
  {
   "cell_type": "code",
   "execution_count": null,
   "metadata": {},
   "outputs": [],
   "source": [
    "\n"
   ]
  }
 ],
 "metadata": {
  "kernelspec": {
   "display_name": "Python 3",
   "language": "python",
   "name": "python3"
  },
  "language_info": {
   "codemirror_mode": {
    "name": "ipython",
    "version": 3
   },
   "file_extension": ".py",
   "mimetype": "text/x-python",
   "name": "python",
   "nbconvert_exporter": "python",
   "pygments_lexer": "ipython3",
   "version": "3.6.4"
  }
 },
 "nbformat": 4,
 "nbformat_minor": 2
}
