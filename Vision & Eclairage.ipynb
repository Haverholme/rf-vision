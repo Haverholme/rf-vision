{
 "cells": [
  {
   "cell_type": "markdown",
   "metadata": {},
   "source": [
    "## Loading the data set"
   ]
  },
  {
   "cell_type": "code",
   "execution_count": 39,
   "metadata": {},
   "outputs": [
    {
     "data": {
      "text/html": [
       "<div>\n",
       "<style scoped>\n",
       "    .dataframe tbody tr th:only-of-type {\n",
       "        vertical-align: middle;\n",
       "    }\n",
       "\n",
       "    .dataframe tbody tr th {\n",
       "        vertical-align: top;\n",
       "    }\n",
       "\n",
       "    .dataframe thead th {\n",
       "        text-align: right;\n",
       "    }\n",
       "</style>\n",
       "<table border=\"1\" class=\"dataframe\">\n",
       "  <thead>\n",
       "    <tr style=\"text-align: right;\">\n",
       "      <th></th>\n",
       "      <th>H</th>\n",
       "      <th>M</th>\n",
       "      <th>L</th>\n",
       "      <th>EMBALLAGE</th>\n",
       "      <th>EMBALLE</th>\n",
       "      <th>NU</th>\n",
       "      <th>TOTAL OPAQUE</th>\n",
       "      <th>PART OPAQUE</th>\n",
       "      <th>PAS OPAQUE</th>\n",
       "      <th>PART TRANSLUCIDE</th>\n",
       "      <th>...</th>\n",
       "      <th>SOL21</th>\n",
       "      <th>SOL22</th>\n",
       "      <th>SOL23</th>\n",
       "      <th>SOL24</th>\n",
       "      <th>SOL25</th>\n",
       "      <th>SOL26</th>\n",
       "      <th>SOL27</th>\n",
       "      <th>SOL28</th>\n",
       "      <th>SOL29</th>\n",
       "      <th>SOL30</th>\n",
       "    </tr>\n",
       "    <tr>\n",
       "      <th>ID</th>\n",
       "      <th></th>\n",
       "      <th></th>\n",
       "      <th></th>\n",
       "      <th></th>\n",
       "      <th></th>\n",
       "      <th></th>\n",
       "      <th></th>\n",
       "      <th></th>\n",
       "      <th></th>\n",
       "      <th></th>\n",
       "      <th></th>\n",
       "      <th></th>\n",
       "      <th></th>\n",
       "      <th></th>\n",
       "      <th></th>\n",
       "      <th></th>\n",
       "      <th></th>\n",
       "      <th></th>\n",
       "      <th></th>\n",
       "      <th></th>\n",
       "      <th></th>\n",
       "    </tr>\n",
       "  </thead>\n",
       "  <tbody>\n",
       "    <tr>\n",
       "      <th>1</th>\n",
       "      <td>1</td>\n",
       "      <td>0</td>\n",
       "      <td>0</td>\n",
       "      <td>1</td>\n",
       "      <td>0</td>\n",
       "      <td>0</td>\n",
       "      <td>0</td>\n",
       "      <td>1</td>\n",
       "      <td>0</td>\n",
       "      <td>1</td>\n",
       "      <td>...</td>\n",
       "      <td>0.2</td>\n",
       "      <td>0.0</td>\n",
       "      <td>0.0</td>\n",
       "      <td>0.2</td>\n",
       "      <td>0.8</td>\n",
       "      <td>0.8</td>\n",
       "      <td>1.0</td>\n",
       "      <td>1.0</td>\n",
       "      <td>1.0</td>\n",
       "      <td>1.0</td>\n",
       "    </tr>\n",
       "    <tr>\n",
       "      <th>2</th>\n",
       "      <td>1</td>\n",
       "      <td>0</td>\n",
       "      <td>0</td>\n",
       "      <td>1</td>\n",
       "      <td>0</td>\n",
       "      <td>0</td>\n",
       "      <td>0</td>\n",
       "      <td>1</td>\n",
       "      <td>0</td>\n",
       "      <td>1</td>\n",
       "      <td>...</td>\n",
       "      <td>0.0</td>\n",
       "      <td>0.0</td>\n",
       "      <td>0.0</td>\n",
       "      <td>0.0</td>\n",
       "      <td>0.8</td>\n",
       "      <td>0.8</td>\n",
       "      <td>1.0</td>\n",
       "      <td>1.0</td>\n",
       "      <td>1.0</td>\n",
       "      <td>1.0</td>\n",
       "    </tr>\n",
       "    <tr>\n",
       "      <th>3</th>\n",
       "      <td>0</td>\n",
       "      <td>1</td>\n",
       "      <td>0</td>\n",
       "      <td>1</td>\n",
       "      <td>0</td>\n",
       "      <td>0</td>\n",
       "      <td>1</td>\n",
       "      <td>0</td>\n",
       "      <td>0</td>\n",
       "      <td>0</td>\n",
       "      <td>...</td>\n",
       "      <td>0.0</td>\n",
       "      <td>0.0</td>\n",
       "      <td>0.0</td>\n",
       "      <td>0.0</td>\n",
       "      <td>0.0</td>\n",
       "      <td>0.0</td>\n",
       "      <td>0.0</td>\n",
       "      <td>0.0</td>\n",
       "      <td>0.0</td>\n",
       "      <td>0.0</td>\n",
       "    </tr>\n",
       "    <tr>\n",
       "      <th>4</th>\n",
       "      <td>1</td>\n",
       "      <td>0</td>\n",
       "      <td>0</td>\n",
       "      <td>1</td>\n",
       "      <td>0</td>\n",
       "      <td>0</td>\n",
       "      <td>1</td>\n",
       "      <td>0</td>\n",
       "      <td>0</td>\n",
       "      <td>0</td>\n",
       "      <td>...</td>\n",
       "      <td>0.8</td>\n",
       "      <td>0.8</td>\n",
       "      <td>0.8</td>\n",
       "      <td>0.8</td>\n",
       "      <td>0.2</td>\n",
       "      <td>0.8</td>\n",
       "      <td>1.0</td>\n",
       "      <td>1.0</td>\n",
       "      <td>1.0</td>\n",
       "      <td>1.0</td>\n",
       "    </tr>\n",
       "    <tr>\n",
       "      <th>5</th>\n",
       "      <td>1</td>\n",
       "      <td>0</td>\n",
       "      <td>0</td>\n",
       "      <td>0</td>\n",
       "      <td>1</td>\n",
       "      <td>0</td>\n",
       "      <td>1</td>\n",
       "      <td>0</td>\n",
       "      <td>0</td>\n",
       "      <td>0</td>\n",
       "      <td>...</td>\n",
       "      <td>0.0</td>\n",
       "      <td>0.0</td>\n",
       "      <td>0.0</td>\n",
       "      <td>0.0</td>\n",
       "      <td>0.0</td>\n",
       "      <td>0.0</td>\n",
       "      <td>0.2</td>\n",
       "      <td>0.8</td>\n",
       "      <td>0.8</td>\n",
       "      <td>0.8</td>\n",
       "    </tr>\n",
       "  </tbody>\n",
       "</table>\n",
       "<p>5 rows × 71 columns</p>\n",
       "</div>"
      ],
      "text/plain": [
       "    H  M  L  EMBALLAGE  EMBALLE  NU  TOTAL OPAQUE  PART OPAQUE  PAS OPAQUE  \\\n",
       "ID                                                                           \n",
       "1   1  0  0          1        0   0             0            1           0   \n",
       "2   1  0  0          1        0   0             0            1           0   \n",
       "3   0  1  0          1        0   0             1            0           0   \n",
       "4   1  0  0          1        0   0             1            0           0   \n",
       "5   1  0  0          0        1   0             1            0           0   \n",
       "\n",
       "    PART TRANSLUCIDE  ...    SOL21  SOL22  SOL23  SOL24  SOL25  SOL26  SOL27  \\\n",
       "ID                    ...                                                      \n",
       "1                  1  ...      0.2    0.0    0.0    0.2    0.8    0.8    1.0   \n",
       "2                  1  ...      0.0    0.0    0.0    0.0    0.8    0.8    1.0   \n",
       "3                  0  ...      0.0    0.0    0.0    0.0    0.0    0.0    0.0   \n",
       "4                  0  ...      0.8    0.8    0.8    0.8    0.2    0.8    1.0   \n",
       "5                  0  ...      0.0    0.0    0.0    0.0    0.0    0.0    0.2   \n",
       "\n",
       "    SOL28  SOL29  SOL30  \n",
       "ID                       \n",
       "1     1.0    1.0    1.0  \n",
       "2     1.0    1.0    1.0  \n",
       "3     0.0    0.0    0.0  \n",
       "4     1.0    1.0    1.0  \n",
       "5     0.8    0.8    0.8  \n",
       "\n",
       "[5 rows x 71 columns]"
      ]
     },
     "execution_count": 39,
     "metadata": {},
     "output_type": "execute_result"
    }
   ],
   "source": [
    "# Pandas is used for data manipulation\n",
    "import pandas as pd\n",
    "\n",
    "# use data that DOES take estimated solutions into account\n",
    "#csv_file = 'vision-complete.csv'\n",
    "\n",
    "# use data that DOESN'T take estimated solutions into account\n",
    "csv_file = 'vision-complete-noestim.csv'\n",
    "\n",
    "# Read in data as pandas dataframe and display first 5 rows\n",
    "data = pd.read_csv(csv_file, index_col=0)\n",
    "data.head(5)"
   ]
  },
  {
   "cell_type": "code",
   "execution_count": 40,
   "metadata": {},
   "outputs": [
    {
     "name": "stdout",
     "output_type": "stream",
     "text": [
      "The shape of our features is: (34, 71)\n",
      "<class 'pandas.core.frame.DataFrame'>\n"
     ]
    }
   ],
   "source": [
    "print('The shape of our features is:', data.shape)\n",
    "print(type(data))"
   ]
  },
  {
   "cell_type": "markdown",
   "metadata": {},
   "source": [
    "## Extract the features and solutions"
   ]
  },
  {
   "cell_type": "code",
   "execution_count": 41,
   "metadata": {},
   "outputs": [
    {
     "name": "stdout",
     "output_type": "stream",
     "text": [
      "All the feature names:\n",
      "['H', 'M', 'L', 'EMBALLAGE', 'EMBALLE', 'NU', 'TOTAL OPAQUE', 'PART OPAQUE', 'PAS OPAQUE', 'PART TRANSLUCIDE', 'PAS TRANSLUCIDE', 'TOTAL TRANSPARENT', 'PART TRANSPARENT', 'PAS TRANSPARENT', 'REFLE OUI', 'REFLE NON', 'REFLE PART', 'LISSE', 'RUGUEUX', 'SURFACE REG', 'SURFACE IRREG', 'GEOM ALVEOLE', 'GEOM CONVEXE', 'GEOM ALEATOIRE', 'GEOM PLAT', 'PLIS', 'FLAP OUI', 'FLAP NON', 'OR', 'ARGENT', 'METALLISE', 'BLANC', 'BRUN', 'MULTICOULEUR', 'BEIGE', 'NOIR', 'ORANGE', 'ROUGE', 'JAUNE', 'VERT', 'BLEU']\n",
      "All the feature values:\n",
      "[[1 0 0 ... 0 0 0]\n",
      " [1 0 0 ... 0 0 0]\n",
      " [0 1 0 ... 0 0 0]\n",
      " ...\n",
      " [1 0 0 ... 0 0 0]\n",
      " [1 0 0 ... 0 0 0]\n",
      " [1 0 0 ... 0 0 0]]\n",
      "All the solution names:\n",
      "['SOL1', 'SOL2', 'SOL3', 'SOL4', 'SOL5', 'SOL6', 'SOL7', 'SOL8', 'SOL9', 'SOL10', 'SOL11', 'SOL12', 'SOL13', 'SOL14', 'SOL15', 'SOL16', 'SOL17', 'SOL18', 'SOL19', 'SOL20', 'SOL21', 'SOL22', 'SOL23', 'SOL24', 'SOL25', 'SOL26', 'SOL27', 'SOL28', 'SOL29', 'SOL30']\n",
      "All the solutions:\n",
      "[[0.  0.  0.2 ... 1.  1.  1. ]\n",
      " [0.  0.  0.  ... 1.  1.  1. ]\n",
      " [0.  0.  0.  ... 0.  0.  0. ]\n",
      " ...\n",
      " [0.8 0.8 0.8 ... 0.8 0.8 0.8]\n",
      " [0.8 0.8 0.8 ... 1.  1.  1. ]\n",
      " [0.  0.  0.2 ... 1.  1.  1. ]]\n"
     ]
    }
   ],
   "source": [
    "# Use numpy to convert to arrays\n",
    "import numpy as np\n",
    "\n",
    "# Extract all solutions 1 to 30\n",
    "solutions_frame = data.loc[:,'SOL1':'SOL30']\n",
    "solutions = np.array(solutions_frame)\n",
    "\n",
    "# Remove the solutions from the features (axis 1 refers to the columns)\n",
    "features = data.drop(solutions_frame, axis = 1)\n",
    "\n",
    "# Saving feature names for later use\n",
    "feature_list = list(features.columns)\n",
    "solution_list = list(solutions_frame.columns)\n",
    "\n",
    "# Convert to numpy array\n",
    "features = np.array(features)\n",
    "\n",
    "print(\"All the feature names:\")\n",
    "print(feature_list)\n",
    "\n",
    "print(\"All the feature values:\")\n",
    "print(features)\n",
    "\n",
    "print(\"All the solution names:\")\n",
    "print(solution_list)\n",
    "\n",
    "print(\"All the solutions:\")\n",
    "print(solutions)\n"
   ]
  },
  {
   "cell_type": "markdown",
   "metadata": {},
   "source": [
    "## Training and Testing Sets"
   ]
  },
  {
   "cell_type": "code",
   "execution_count": 42,
   "metadata": {},
   "outputs": [
    {
     "name": "stdout",
     "output_type": "stream",
     "text": [
      "Training Features  Shape: (25, 41)\n",
      "Training Solutions Shape: (25, 30)\n",
      "Testing  Features  Shape: (9, 41)\n",
      "Testing  Solutions Shape: (9, 30)\n"
     ]
    }
   ],
   "source": [
    "# Using Skicit-learn to split data into training and testing sets\n",
    "from sklearn.model_selection import train_test_split\n",
    "\n",
    "# Split the data into training and testing sets\n",
    "train_features, test_features, train_solutions, test_solutions = train_test_split(features, solutions, test_size = 0.25,\n",
    "                                                                                  random_state = 42)\n",
    "\n",
    "print('Training Features  Shape:', train_features.shape)\n",
    "print('Training Solutions Shape:', train_solutions.shape)\n",
    "print('Testing  Features  Shape:', test_features.shape)\n",
    "print('Testing  Solutions Shape:', test_solutions.shape)"
   ]
  },
  {
   "cell_type": "markdown",
   "metadata": {},
   "source": [
    "## Training the data"
   ]
  },
  {
   "cell_type": "code",
   "execution_count": 43,
   "metadata": {},
   "outputs": [],
   "source": [
    "# Import the model we are using\n",
    "from sklearn.ensemble import RandomForestRegressor\n",
    "\n",
    "# Instantiate model \n",
    "rf = RandomForestRegressor(n_estimators=100, max_depth=None, random_state=42)\n",
    "\n",
    "# Train the model on training data\n",
    "rf.fit(train_features, train_solutions);"
   ]
  },
  {
   "cell_type": "markdown",
   "metadata": {},
   "source": [
    "## Make Predictions on Test Data"
   ]
  },
  {
   "cell_type": "code",
   "execution_count": 44,
   "metadata": {},
   "outputs": [
    {
     "name": "stdout",
     "output_type": "stream",
     "text": [
      "Mean Absolute Error (MAE)      : 0.34749220458553814\n",
      "Mean Squared Error (MSE)       : 0.17042323385386743\n",
      "Root Mean Squared Error (RMSE) : 0.41282348994923657\n"
     ]
    }
   ],
   "source": [
    "# import metrics\n",
    "from sklearn import metrics\n",
    "\n",
    "# Use the forest's predict method on the test data\n",
    "predictions_rf = rf.predict(test_features)\n",
    "\n",
    "# Print out the error\n",
    "print('Mean Absolute Error (MAE)      :', metrics.mean_absolute_error(test_solutions, predictions_rf))\n",
    "print('Mean Squared Error (MSE)       :', metrics.mean_squared_error(test_solutions, predictions_rf))\n",
    "print('Root Mean Squared Error (RMSE) :', np.sqrt(metrics.mean_squared_error(test_solutions, predictions_rf)))\n"
   ]
  },
  {
   "cell_type": "markdown",
   "metadata": {},
   "source": [
    "## Feature importance"
   ]
  },
  {
   "cell_type": "code",
   "execution_count": 45,
   "metadata": {},
   "outputs": [
    {
     "data": {
      "image/png": "[encoded data removed]",
      "text/plain": [
       "<matplotlib.figure.Figure at 0x1a15756c88>"
      ]
     },
     "metadata": {},
     "output_type": "display_data"
    }
   ],
   "source": [
    "# Import matplotlib for plotting and use magic command for Jupyter Notebooks\n",
    "import matplotlib.pyplot as plt\n",
    "\n",
    "%matplotlib inline\n",
    "\n",
    "# Get numerical feature importances\n",
    "importances = list(rf.feature_importances_)\n",
    "\n",
    "# List of tuples with variable and importance\n",
    "feature_importances = [(feature, round(importance, 2)) for feature, importance in zip(feature_list, importances)]\n",
    "\n",
    "# Sort the feature importances by most important first\n",
    "feature_importances = sorted(feature_importances, key = lambda x: x[1], reverse = True)\n",
    "unzipped = list(zip(*feature_importances))\n",
    "\n",
    "# Print out the feature and importances \n",
    "#[print('Variable: {:20} Importance: {}'.format(*pair)) for pair in feature_importances];\n",
    "\n",
    "# Set the style\n",
    "plt.style.use('fivethirtyeight')\n",
    "plt.rcParams[\"figure.figsize\"] = [20.0, 10.0]\n",
    "\n",
    "# list of x locations for plotting\n",
    "x_values = list(range(len(importances)))\n",
    "\n",
    "# Make a bar chart\n",
    "plt.bar(x_values, list(unzipped[1]), orientation = 'vertical')\n",
    "\n",
    "# Tick labels for x axis\n",
    "plt.xticks(x_values, list(unzipped[0]), rotation='vertical')\n",
    "\n",
    "# Axis labels and title\n",
    "plt.ylabel('Importance'); \n",
    "plt.xlabel('Variable'); \n",
    "plt.title('Variable Importances'); "
   ]
  },
  {
   "cell_type": "markdown",
   "metadata": {},
   "source": [
    "## Grid search\n",
    "\n",
    "Explores all random forests with all parameter permutations => **216 permutations**"
   ]
  },
  {
   "cell_type": "code",
   "execution_count": 46,
   "metadata": {},
   "outputs": [
    {
     "name": "stdout",
     "output_type": "stream",
     "text": [
      "GridSearchCV took 152.41 seconds for 648 candidate parameter settings.\n",
      "Model with rank: 1\n",
      "Mean validation score: 0.077 (std: 0.114)\n",
      "Parameters: {'bootstrap': False, 'criterion': 'mse', 'max_depth': 3, 'max_features': 3, 'min_samples_leaf': 1, 'min_samples_split': 2, 'n_estimators': 100}\n",
      "\n",
      "Model with rank: 2\n",
      "Mean validation score: 0.070 (std: 0.132)\n",
      "Parameters: {'bootstrap': True, 'criterion': 'mse', 'max_depth': 3, 'max_features': 3, 'min_samples_leaf': 1, 'min_samples_split': 2, 'n_estimators': 50}\n",
      "\n",
      "Model with rank: 3\n",
      "Mean validation score: 0.068 (std: 0.120)\n",
      "Parameters: {'bootstrap': True, 'criterion': 'mse', 'max_depth': 3, 'max_features': 3, 'min_samples_leaf': 1, 'min_samples_split': 2, 'n_estimators': 100}\n",
      "\n"
     ]
    }
   ],
   "source": [
    "from time import time\n",
    "from scipy.stats import randint as sp_randint\n",
    "\n",
    "from sklearn.model_selection import GridSearchCV\n",
    "\n",
    "# Utility function to report best scores\n",
    "def report(results, n_top=3):\n",
    "    for i in range(1, n_top + 1):\n",
    "        candidates = np.flatnonzero(results['rank_test_score'] == i)\n",
    "        for candidate in candidates:\n",
    "            print(\"Model with rank: {0}\".format(i))\n",
    "            print(\"Mean validation score: {0:.3f} (std: {1:.3f})\".format(\n",
    "                  results['mean_test_score'][candidate],\n",
    "                  results['std_test_score'][candidate]))\n",
    "            print(\"Parameters: {0}\".format(results['params'][candidate]))\n",
    "            print(\"\")\n",
    "\n",
    "# use a full grid over all parameters (648 combinations)\n",
    "param_grid = {\"n_estimators\": [10, 50, 100],\n",
    "              \"max_depth\": [3, None],\n",
    "              \"max_features\": [3, 10, 41],\n",
    "              \"min_samples_split\": [2, 3, 10],\n",
    "              \"min_samples_leaf\": [1, 3, 10],\n",
    "              \"bootstrap\": [True, False],\n",
    "              \"criterion\": [\"mse\", \"mae\"]}\n",
    "\n",
    "# run grid search\n",
    "grid_search = GridSearchCV(rf, param_grid=param_grid)\n",
    "start = time()\n",
    "grid_search.fit(train_features, train_solutions)\n",
    "\n",
    "print(\"GridSearchCV took %.2f seconds for %d candidate parameter settings.\"\n",
    "      % (time() - start, len(grid_search.cv_results_['params'])))\n",
    "report(grid_search.cv_results_)"
   ]
  },
  {
   "cell_type": "markdown",
   "metadata": {},
   "source": [
    "## Randomized search\n",
    "\n",
    "Explores random forests with a random set of permutations => **?? permutations**\n",
    "\n",
    "Video explaining why this is better than Grid search: https://youtu.be/0wUF_Ov8b0A?t=17m38s (3 min)"
   ]
  },
  {
   "cell_type": "code",
   "execution_count": 47,
   "metadata": {},
   "outputs": [
    {
     "name": "stdout",
     "output_type": "stream",
     "text": [
      "RandomizedSearchCV took 6.17 seconds for 20 candidates parameter settings.\n",
      "Model with rank: 1\n",
      "Mean validation score: -0.149 (std: 0.089)\n",
      "Parameters: {'bootstrap': False, 'criterion': 'mse', 'max_depth': None, 'max_features': 10, 'min_samples_leaf': 14, 'min_samples_split': 27, 'n_estimators': 47}\n",
      "\n",
      "Model with rank: 2\n",
      "Mean validation score: -0.149 (std: 0.089)\n",
      "Parameters: {'bootstrap': False, 'criterion': 'mse', 'max_depth': None, 'max_features': 33, 'min_samples_leaf': 27, 'min_samples_split': 38, 'n_estimators': 54}\n",
      "\n",
      "Model with rank: 3\n",
      "Mean validation score: -0.155 (std: 0.096)\n",
      "Parameters: {'bootstrap': True, 'criterion': 'mse', 'max_depth': None, 'max_features': 38, 'min_samples_leaf': 28, 'min_samples_split': 34, 'n_estimators': 114}\n",
      "\n"
     ]
    }
   ],
   "source": [
    "from time import time\n",
    "from scipy.stats import randint as sp_randint\n",
    "from sklearn.model_selection import RandomizedSearchCV\n",
    "\n",
    "# Utility function to report best scores\n",
    "def report(results, n_top=3):\n",
    "    for i in range(1, n_top + 1):\n",
    "        candidates = np.flatnonzero(results['rank_test_score'] == i)\n",
    "        for candidate in candidates:\n",
    "            print(\"Model with rank: {0}\".format(i))\n",
    "            print(\"Mean validation score: {0:.3f} (std: {1:.3f})\".format(\n",
    "                  results['mean_test_score'][candidate],\n",
    "                  results['std_test_score'][candidate]))\n",
    "            print(\"Parameters: {0}\".format(results['params'][candidate]))\n",
    "            print(\"\")\n",
    "\n",
    "# specify parameters and distributions to sample from\n",
    "param_dist_rf = {\"n_estimators\": sp_randint(1, 200),\n",
    "                 \"max_depth\": [3, None],\n",
    "                 \"max_features\": sp_randint(1, 41),\n",
    "                 \"min_samples_split\": sp_randint(2, 41),\n",
    "                 \"min_samples_leaf\": sp_randint(1, 41),\n",
    "                 \"bootstrap\": [True, False],\n",
    "                 \"criterion\": [\"mse\", \"mae\"]}\n",
    "\n",
    "# run randomized search\n",
    "n_iter_search = 20\n",
    "random_search = RandomizedSearchCV(rf, param_distributions=param_dist_rf,\n",
    "                                   n_iter=n_iter_search)\n",
    "\n",
    "start = time()\n",
    "random_search.fit(train_features, train_solutions)\n",
    "print(\"RandomizedSearchCV took %.2f seconds for %d candidates\"\n",
    "      \" parameter settings.\" % ((time() - start), n_iter_search))\n",
    "report(random_search.cv_results_)"
   ]
  },
  {
   "cell_type": "markdown",
   "metadata": {},
   "source": [
    "## Visualizing a Single Decision Tree"
   ]
  },
  {
   "cell_type": "code",
   "execution_count": 48,
   "metadata": {},
   "outputs": [
    {
     "name": "stdout",
     "output_type": "stream",
     "text": [
      "The depth of this tree is: 8\n"
     ]
    }
   ],
   "source": [
    "# Import tools needed for visualization\n",
    "from sklearn.tree import export_graphviz\n",
    "import pydot\n",
    "\n",
    "# Pull out one tree from the forest\n",
    "tree = rf.estimators_[5]\n",
    "\n",
    "# Export the image to a dot file\n",
    "export_graphviz(tree, out_file = 'sample_tree.dot', feature_names = feature_list, rounded = True, precision = 1)\n",
    "\n",
    "# Use dot file to create a graph\n",
    "(graph, ) = pydot.graph_from_dot_file('sample_tree.dot')\n",
    "\n",
    "# Write graph to a png file\n",
    "graph.write_png('sample_tree.png'); \n",
    "\n",
    "print('The depth of this tree is:', tree.tree_.max_depth)"
   ]
  },
  {
   "cell_type": "markdown",
   "metadata": {},
   "source": [
    "![Sample tree](sample_tree.png)"
   ]
  },
  {
   "cell_type": "code",
   "execution_count": 49,
   "metadata": {},
   "outputs": [
    {
     "data": {
      "application/vnd.jupyter.widget-view+json": {
       "model_id": "4e9c0f16313d4c7d9fdc76e9dac53573",
       "version_major": 2,
       "version_minor": 0
      },
      "text/html": [
       "<p>Failed to display Jupyter Widget of type <code>HTML</code>.</p>\n",
       "<p>\n",
       "  If you're reading this message in the Jupyter Notebook or JupyterLab Notebook, it may mean\n",
       "  that the widgets JavaScript is still loading. If this message persists, it\n",
       "  likely means that the widgets JavaScript library is either not installed or\n",
       "  not enabled. See the <a href=\"https://ipywidgets.readthedocs.io/en/stable/user_install.html\">Jupyter\n",
       "  Widgets Documentation</a> for setup instructions.\n",
       "</p>\n",
       "<p>\n",
       "  If you're reading this message in another frontend (for example, a static\n",
       "  rendering on GitHub or <a href=\"https://nbviewer.jupyter.org/\">NBViewer</a>),\n",
       "  it may mean that your frontend doesn't currently support widgets.\n",
       "</p>\n"
      ],
      "text/plain": [
       "HTML(value='<h3>Sélectionnez les qualités du produit:</h3>')"
      ]
     },
     "metadata": {},
     "output_type": "display_data"
    },
    {
     "data": {
      "application/vnd.jupyter.widget-view+json": {
       "model_id": "87cc8f309d614408962f57b6f9d61b15",
       "version_major": 2,
       "version_minor": 0
      },
      "text/html": [
       "<p>Failed to display Jupyter Widget of type <code>Dropdown</code>.</p>\n",
       "<p>\n",
       "  If you're reading this message in the Jupyter Notebook or JupyterLab Notebook, it may mean\n",
       "  that the widgets JavaScript is still loading. If this message persists, it\n",
       "  likely means that the widgets JavaScript library is either not installed or\n",
       "  not enabled. See the <a href=\"https://ipywidgets.readthedocs.io/en/stable/user_install.html\">Jupyter\n",
       "  Widgets Documentation</a> for setup instructions.\n",
       "</p>\n",
       "<p>\n",
       "  If you're reading this message in another frontend (for example, a static\n",
       "  rendering on GitHub or <a href=\"https://nbviewer.jupyter.org/\">NBViewer</a>),\n",
       "  it may mean that your frontend doesn't currently support widgets.\n",
       "</p>\n"
      ],
      "text/plain": [
       "Dropdown(description='Importance:', options={'Haute': 4, 'Moyenne': 2, 'Basse': 1}, value=4)"
      ]
     },
     "metadata": {},
     "output_type": "display_data"
    },
    {
     "data": {
      "application/vnd.jupyter.widget-view+json": {
       "model_id": "9db12e718abd406d86765b06f1e897a5",
       "version_major": 2,
       "version_minor": 0
      },
      "text/html": [
       "<p>Failed to display Jupyter Widget of type <code>Dropdown</code>.</p>\n",
       "<p>\n",
       "  If you're reading this message in the Jupyter Notebook or JupyterLab Notebook, it may mean\n",
       "  that the widgets JavaScript is still loading. If this message persists, it\n",
       "  likely means that the widgets JavaScript library is either not installed or\n",
       "  not enabled. See the <a href=\"https://ipywidgets.readthedocs.io/en/stable/user_install.html\">Jupyter\n",
       "  Widgets Documentation</a> for setup instructions.\n",
       "</p>\n",
       "<p>\n",
       "  If you're reading this message in another frontend (for example, a static\n",
       "  rendering on GitHub or <a href=\"https://nbviewer.jupyter.org/\">NBViewer</a>),\n",
       "  it may mean that your frontend doesn't currently support widgets.\n",
       "</p>\n"
      ],
      "text/plain": [
       "Dropdown(description='Type de produit:', options={'Emballage': 4, 'Emballé': 2, 'Nu': 1}, value=4)"
      ]
     },
     "metadata": {},
     "output_type": "display_data"
    },
    {
     "data": {
      "application/vnd.jupyter.widget-view+json": {
       "model_id": "a470e4fa0a35479abc340b67c41c2eed",
       "version_major": 2,
       "version_minor": 0
      },
      "text/html": [
       "<p>Failed to display Jupyter Widget of type <code>Dropdown</code>.</p>\n",
       "<p>\n",
       "  If you're reading this message in the Jupyter Notebook or JupyterLab Notebook, it may mean\n",
       "  that the widgets JavaScript is still loading. If this message persists, it\n",
       "  likely means that the widgets JavaScript library is either not installed or\n",
       "  not enabled. See the <a href=\"https://ipywidgets.readthedocs.io/en/stable/user_install.html\">Jupyter\n",
       "  Widgets Documentation</a> for setup instructions.\n",
       "</p>\n",
       "<p>\n",
       "  If you're reading this message in another frontend (for example, a static\n",
       "  rendering on GitHub or <a href=\"https://nbviewer.jupyter.org/\">NBViewer</a>),\n",
       "  it may mean that your frontend doesn't currently support widgets.\n",
       "</p>\n"
      ],
      "text/plain": [
       "Dropdown(description='Opacité:', options={'Totalement': 4, 'Partiellement': 2, 'Non': 1}, value=4)"
      ]
     },
     "metadata": {},
     "output_type": "display_data"
    },
    {
     "data": {
      "application/vnd.jupyter.widget-view+json": {
       "model_id": "71ba8a8a2e104437a3041fa14d7ebe9e",
       "version_major": 2,
       "version_minor": 0
      },
      "text/html": [
       "<p>Failed to display Jupyter Widget of type <code>Dropdown</code>.</p>\n",
       "<p>\n",
       "  If you're reading this message in the Jupyter Notebook or JupyterLab Notebook, it may mean\n",
       "  that the widgets JavaScript is still loading. If this message persists, it\n",
       "  likely means that the widgets JavaScript library is either not installed or\n",
       "  not enabled. See the <a href=\"https://ipywidgets.readthedocs.io/en/stable/user_install.html\">Jupyter\n",
       "  Widgets Documentation</a> for setup instructions.\n",
       "</p>\n",
       "<p>\n",
       "  If you're reading this message in another frontend (for example, a static\n",
       "  rendering on GitHub or <a href=\"https://nbviewer.jupyter.org/\">NBViewer</a>),\n",
       "  it may mean that your frontend doesn't currently support widgets.\n",
       "</p>\n"
      ],
      "text/plain": [
       "Dropdown(description='Translucidité:', options={'Partiellement': 2, 'Non': 1}, value=2)"
      ]
     },
     "metadata": {},
     "output_type": "display_data"
    },
    {
     "data": {
      "application/vnd.jupyter.widget-view+json": {
       "model_id": "b8852500eeeb4702aee53d6bf7466dcb",
       "version_major": 2,
       "version_minor": 0
      },
      "text/html": [
       "<p>Failed to display Jupyter Widget of type <code>Dropdown</code>.</p>\n",
       "<p>\n",
       "  If you're reading this message in the Jupyter Notebook or JupyterLab Notebook, it may mean\n",
       "  that the widgets JavaScript is still loading. If this message persists, it\n",
       "  likely means that the widgets JavaScript library is either not installed or\n",
       "  not enabled. See the <a href=\"https://ipywidgets.readthedocs.io/en/stable/user_install.html\">Jupyter\n",
       "  Widgets Documentation</a> for setup instructions.\n",
       "</p>\n",
       "<p>\n",
       "  If you're reading this message in another frontend (for example, a static\n",
       "  rendering on GitHub or <a href=\"https://nbviewer.jupyter.org/\">NBViewer</a>),\n",
       "  it may mean that your frontend doesn't currently support widgets.\n",
       "</p>\n"
      ],
      "text/plain": [
       "Dropdown(description='Transparence:', options={'Totalement': 4, 'Partiellement': 2, 'Non': 1}, value=4)"
      ]
     },
     "metadata": {},
     "output_type": "display_data"
    },
    {
     "data": {
      "application/vnd.jupyter.widget-view+json": {
       "model_id": "cc486c8b0c2941baa6fd061c55ab377c",
       "version_major": 2,
       "version_minor": 0
      },
      "text/html": [
       "<p>Failed to display Jupyter Widget of type <code>SelectMultiple</code>.</p>\n",
       "<p>\n",
       "  If you're reading this message in the Jupyter Notebook or JupyterLab Notebook, it may mean\n",
       "  that the widgets JavaScript is still loading. If this message persists, it\n",
       "  likely means that the widgets JavaScript library is either not installed or\n",
       "  not enabled. See the <a href=\"https://ipywidgets.readthedocs.io/en/stable/user_install.html\">Jupyter\n",
       "  Widgets Documentation</a> for setup instructions.\n",
       "</p>\n",
       "<p>\n",
       "  If you're reading this message in another frontend (for example, a static\n",
       "  rendering on GitHub or <a href=\"https://nbviewer.jupyter.org/\">NBViewer</a>),\n",
       "  it may mean that your frontend doesn't currently support widgets.\n",
       "</p>\n"
      ],
      "text/plain": [
       "SelectMultiple(description='Réflexion:', options={'Oui': 4, 'Non': 2, 'Partiellement': 1}, rows=3, value=())"
      ]
     },
     "metadata": {},
     "output_type": "display_data"
    },
    {
     "data": {
      "application/vnd.jupyter.widget-view+json": {
       "model_id": "43f7e671f368407e9fc11e719bfab1e7",
       "version_major": 2,
       "version_minor": 0
      },
      "text/html": [
       "<p>Failed to display Jupyter Widget of type <code>SelectMultiple</code>.</p>\n",
       "<p>\n",
       "  If you're reading this message in the Jupyter Notebook or JupyterLab Notebook, it may mean\n",
       "  that the widgets JavaScript is still loading. If this message persists, it\n",
       "  likely means that the widgets JavaScript library is either not installed or\n",
       "  not enabled. See the <a href=\"https://ipywidgets.readthedocs.io/en/stable/user_install.html\">Jupyter\n",
       "  Widgets Documentation</a> for setup instructions.\n",
       "</p>\n",
       "<p>\n",
       "  If you're reading this message in another frontend (for example, a static\n",
       "  rendering on GitHub or <a href=\"https://nbviewer.jupyter.org/\">NBViewer</a>),\n",
       "  it may mean that your frontend doesn't currently support widgets.\n",
       "</p>\n"
      ],
      "text/plain": [
       "SelectMultiple(description='Rugosité:', options={'Lisse': 2, 'Rugueux': 1}, rows=2, value=())"
      ]
     },
     "metadata": {},
     "output_type": "display_data"
    },
    {
     "data": {
      "application/vnd.jupyter.widget-view+json": {
       "model_id": "6665943706fc47ea9bb09c1d6bf4ee6a",
       "version_major": 2,
       "version_minor": 0
      },
      "text/html": [
       "<p>Failed to display Jupyter Widget of type <code>SelectMultiple</code>.</p>\n",
       "<p>\n",
       "  If you're reading this message in the Jupyter Notebook or JupyterLab Notebook, it may mean\n",
       "  that the widgets JavaScript is still loading. If this message persists, it\n",
       "  likely means that the widgets JavaScript library is either not installed or\n",
       "  not enabled. See the <a href=\"https://ipywidgets.readthedocs.io/en/stable/user_install.html\">Jupyter\n",
       "  Widgets Documentation</a> for setup instructions.\n",
       "</p>\n",
       "<p>\n",
       "  If you're reading this message in another frontend (for example, a static\n",
       "  rendering on GitHub or <a href=\"https://nbviewer.jupyter.org/\">NBViewer</a>),\n",
       "  it may mean that your frontend doesn't currently support widgets.\n",
       "</p>\n"
      ],
      "text/plain": [
       "SelectMultiple(description='Surface:', options={'Régulière': 2, 'Irrégulière': 1}, rows=2, value=())"
      ]
     },
     "metadata": {},
     "output_type": "display_data"
    },
    {
     "data": {
      "application/vnd.jupyter.widget-view+json": {
       "model_id": "cec1ffd183b0447a8da8dfd05ab8c3cf",
       "version_major": 2,
       "version_minor": 0
      },
      "text/html": [
       "<p>Failed to display Jupyter Widget of type <code>SelectMultiple</code>.</p>\n",
       "<p>\n",
       "  If you're reading this message in the Jupyter Notebook or JupyterLab Notebook, it may mean\n",
       "  that the widgets JavaScript is still loading. If this message persists, it\n",
       "  likely means that the widgets JavaScript library is either not installed or\n",
       "  not enabled. See the <a href=\"https://ipywidgets.readthedocs.io/en/stable/user_install.html\">Jupyter\n",
       "  Widgets Documentation</a> for setup instructions.\n",
       "</p>\n",
       "<p>\n",
       "  If you're reading this message in another frontend (for example, a static\n",
       "  rendering on GitHub or <a href=\"https://nbviewer.jupyter.org/\">NBViewer</a>),\n",
       "  it may mean that your frontend doesn't currently support widgets.\n",
       "</p>\n"
      ],
      "text/plain": [
       "SelectMultiple(description='Géométrie:', options={'Alvéolé': 8, 'Convexe': 4, 'Aléatoire': 2, 'Plat': 1}, rows=4, value=())"
      ]
     },
     "metadata": {},
     "output_type": "display_data"
    },
    {
     "data": {
      "application/vnd.jupyter.widget-view+json": {
       "model_id": "98fef9922f9049a696c3816c49a8b3ac",
       "version_major": 2,
       "version_minor": 0
      },
      "text/html": [
       "<p>Failed to display Jupyter Widget of type <code>Dropdown</code>.</p>\n",
       "<p>\n",
       "  If you're reading this message in the Jupyter Notebook or JupyterLab Notebook, it may mean\n",
       "  that the widgets JavaScript is still loading. If this message persists, it\n",
       "  likely means that the widgets JavaScript library is either not installed or\n",
       "  not enabled. See the <a href=\"https://ipywidgets.readthedocs.io/en/stable/user_install.html\">Jupyter\n",
       "  Widgets Documentation</a> for setup instructions.\n",
       "</p>\n",
       "<p>\n",
       "  If you're reading this message in another frontend (for example, a static\n",
       "  rendering on GitHub or <a href=\"https://nbviewer.jupyter.org/\">NBViewer</a>),\n",
       "  it may mean that your frontend doesn't currently support widgets.\n",
       "</p>\n"
      ],
      "text/plain": [
       "Dropdown(description='Plis:', options={'Oui': 1, 'Non': 0}, value=1)"
      ]
     },
     "metadata": {},
     "output_type": "display_data"
    },
    {
     "data": {
      "application/vnd.jupyter.widget-view+json": {
       "model_id": "c2094f2b399648bbb66aaf3987c3e7c1",
       "version_major": 2,
       "version_minor": 0
      },
      "text/html": [
       "<p>Failed to display Jupyter Widget of type <code>SelectMultiple</code>.</p>\n",
       "<p>\n",
       "  If you're reading this message in the Jupyter Notebook or JupyterLab Notebook, it may mean\n",
       "  that the widgets JavaScript is still loading. If this message persists, it\n",
       "  likely means that the widgets JavaScript library is either not installed or\n",
       "  not enabled. See the <a href=\"https://ipywidgets.readthedocs.io/en/stable/user_install.html\">Jupyter\n",
       "  Widgets Documentation</a> for setup instructions.\n",
       "</p>\n",
       "<p>\n",
       "  If you're reading this message in another frontend (for example, a static\n",
       "  rendering on GitHub or <a href=\"https://nbviewer.jupyter.org/\">NBViewer</a>),\n",
       "  it may mean that your frontend doesn't currently support widgets.\n",
       "</p>\n"
      ],
      "text/plain": [
       "SelectMultiple(description='Flaps:', options={'Oui': 2, 'Non': 1}, rows=2, value=())"
      ]
     },
     "metadata": {},
     "output_type": "display_data"
    },
    {
     "data": {
      "application/vnd.jupyter.widget-view+json": {
       "model_id": "b17608839a62417fb2474db71c277591",
       "version_major": 2,
       "version_minor": 0
      },
      "text/html": [
       "<p>Failed to display Jupyter Widget of type <code>SelectMultiple</code>.</p>\n",
       "<p>\n",
       "  If you're reading this message in the Jupyter Notebook or JupyterLab Notebook, it may mean\n",
       "  that the widgets JavaScript is still loading. If this message persists, it\n",
       "  likely means that the widgets JavaScript library is either not installed or\n",
       "  not enabled. See the <a href=\"https://ipywidgets.readthedocs.io/en/stable/user_install.html\">Jupyter\n",
       "  Widgets Documentation</a> for setup instructions.\n",
       "</p>\n",
       "<p>\n",
       "  If you're reading this message in another frontend (for example, a static\n",
       "  rendering on GitHub or <a href=\"https://nbviewer.jupyter.org/\">NBViewer</a>),\n",
       "  it may mean that your frontend doesn't currently support widgets.\n",
       "</p>\n"
      ],
      "text/plain": [
       "SelectMultiple(description='Couleur:', options={'Argent': 4096, 'Aucune': 2048, 'Beige': 1024, 'Blanc': 512, 'Bleu': 256, 'Brun': 128, 'Jaune': 64, 'Métallisé': 32, 'Multicouleur': 16, 'Noir': 8, 'Or': 4, 'Orange': 2, 'Rouge': 1}, rows=13, value=())"
      ]
     },
     "metadata": {},
     "output_type": "display_data"
    },
    {
     "data": {
      "application/vnd.jupyter.widget-view+json": {
       "model_id": "fd462f630a0247b99fd80922b8fd2caa",
       "version_major": 2,
       "version_minor": 0
      },
      "text/html": [
       "<p>Failed to display Jupyter Widget of type <code>Button</code>.</p>\n",
       "<p>\n",
       "  If you're reading this message in the Jupyter Notebook or JupyterLab Notebook, it may mean\n",
       "  that the widgets JavaScript is still loading. If this message persists, it\n",
       "  likely means that the widgets JavaScript library is either not installed or\n",
       "  not enabled. See the <a href=\"https://ipywidgets.readthedocs.io/en/stable/user_install.html\">Jupyter\n",
       "  Widgets Documentation</a> for setup instructions.\n",
       "</p>\n",
       "<p>\n",
       "  If you're reading this message in another frontend (for example, a static\n",
       "  rendering on GitHub or <a href=\"https://nbviewer.jupyter.org/\">NBViewer</a>),\n",
       "  it may mean that your frontend doesn't currently support widgets.\n",
       "</p>\n"
      ],
      "text/plain": [
       "Button(description='Rechercher', icon='cog', style=ButtonStyle(), tooltip='Rechercher')"
      ]
     },
     "metadata": {},
     "output_type": "display_data"
    }
   ],
   "source": [
    "from ipywidgets import widgets\n",
    "\n",
    "# create form\n",
    "display(widgets.HTML(\n",
    "    value=\"<h3>Sélectionnez les qualités du produit:</h3>\"\n",
    "))\n",
    "\n",
    "importance = widgets.Dropdown(\n",
    "    options={'Haute': 4, 'Moyenne': 2, 'Basse': 1},\n",
    "    value=4,\n",
    "    description='Importance:',\n",
    "    disabled=False,\n",
    ")\n",
    "\n",
    "product = widgets.Dropdown(\n",
    "    options={'Emballage': 4, 'Emballé': 2, 'Nu': 1},\n",
    "    value=4,\n",
    "    description='Type de produit:',\n",
    "    disabled=False,\n",
    ")\n",
    "\n",
    "opacity = widgets.Dropdown(\n",
    "    options={'Totalement': 4, 'Partiellement': 2, 'Non': 1},\n",
    "    value=4,\n",
    "    description='Opacité:',\n",
    "    disabled=False,\n",
    ")\n",
    "\n",
    "translucid = widgets.Dropdown(\n",
    "    options={'Partiellement': 2, 'Non': 1},\n",
    "    value=2,\n",
    "    description='Translucidité:',\n",
    "    disabled=False,\n",
    ")\n",
    "\n",
    "transparency = widgets.Dropdown(\n",
    "    options={'Totalement': 4, 'Partiellement': 2, 'Non': 1},\n",
    "    value=4,\n",
    "    description='Transparence:',\n",
    "    disabled=False,\n",
    ")\n",
    "\n",
    "reflexion = widgets.SelectMultiple(\n",
    "    options={'Oui': 4, 'Non': 2, 'Partiellement': 1},\n",
    "    value=[],\n",
    "    description='Réflexion:',\n",
    "    disabled=False,\n",
    "    rows=3\n",
    ")\n",
    "\n",
    "roughness = widgets.SelectMultiple(\n",
    "    options={'Lisse': 2, 'Rugueux': 1},\n",
    "    value=[],\n",
    "    description='Rugosité:',\n",
    "    disabled=False,\n",
    "    rows=2\n",
    ")\n",
    "\n",
    "surface = widgets.SelectMultiple(\n",
    "    options={'Régulière': 2, 'Irrégulière': 1},\n",
    "    value=[],\n",
    "    description='Surface:',\n",
    "    disabled=False,\n",
    "    rows=2\n",
    ")\n",
    "\n",
    "geometry = widgets.SelectMultiple(\n",
    "    options={'Alvéolé': 8, 'Convexe': 4, 'Aléatoire': 2, 'Plat': 1},\n",
    "    value=[],\n",
    "    description='Géométrie:',\n",
    "    disabled=False,\n",
    "    rows=4\n",
    ")\n",
    "\n",
    "folds = widgets.Dropdown(\n",
    "    options={'Oui': 1, 'Non': 0},\n",
    "    value=1,\n",
    "    description='Plis:',\n",
    "    disabled=False,\n",
    ")\n",
    "\n",
    "flaps = widgets.SelectMultiple(\n",
    "    options={'Oui': 2, 'Non': 1},\n",
    "    value=[],\n",
    "    description='Flaps:',\n",
    "    disabled=False,\n",
    "    rows=2\n",
    ")\n",
    "\n",
    "color = widgets.SelectMultiple(\n",
    "    options={'Argent': 4096, 'Aucune': 2048, 'Beige': 1024, 'Blanc': 512, 'Bleu': 256, 'Brun': 128, 'Jaune': 64, 'Métallisé': 32, 'Multicouleur': 16, 'Noir': 8, 'Or': 4, 'Orange': 2, 'Rouge': 1},\n",
    "    value=[],\n",
    "    description='Couleur:',\n",
    "    disabled=False,\n",
    "    rows=13\n",
    ")\n",
    "\n",
    "search = widgets.Button(\n",
    "    description='Rechercher',\n",
    "    disabled=False,\n",
    "    button_style='', # 'success', 'info', 'warning', 'danger' or ''\n",
    "    tooltip='Rechercher',\n",
    "    icon='cog'\n",
    ")\n",
    "\n",
    "# display form\n",
    "display(importance)\n",
    "display(product)\n",
    "display(opacity)\n",
    "display(translucid)\n",
    "display(transparency)\n",
    "display(reflexion)\n",
    "display(roughness)\n",
    "display(surface)\n",
    "display(geometry)\n",
    "display(folds)\n",
    "display(flaps)\n",
    "display(color)\n",
    "display(search)\n",
    "\n",
    "# figure out the best solution on submission\n",
    "def submit(button):\n",
    "    # create feature vector\n",
    "    selected_features = []\n",
    "    selected_features += list('{0:03b}'.format(importance.value))\n",
    "    selected_features += list('{0:03b}'.format(product.value))\n",
    "    selected_features += list('{0:03b}'.format(opacity.value))\n",
    "    selected_features += list('{0:02b}'.format(translucid.value))\n",
    "    selected_features += list('{0:03b}'.format(transparency.value))\n",
    "    selected_features += list('{0:03b}'.format(sum(reflexion.value)))\n",
    "    selected_features += list('{0:02b}'.format(sum(roughness.value)))\n",
    "    selected_features += list('{0:02b}'.format(sum(surface.value)))\n",
    "    selected_features += list('{0:04b}'.format(sum(geometry.value)))\n",
    "    selected_features += list('{0:0b}'.format(folds.value))\n",
    "    selected_features += list('{0:02b}'.format(sum(flaps.value)))\n",
    "    selected_features += list('{0:013b}'.format(sum(color.value)))\n",
    "    \n",
    "    # instantiate model using the best parameters from randomized parameter tuning\n",
    "    rf = RandomForestRegressor(n_estimators=107, max_depth=None, max_features=27, min_samples_leaf=40, \n",
    "                               min_samples_split=37, bootstrap=False, criterion='mse', random_state=42)\n",
    "    # train the model on the full data set\n",
    "    rf.fit(features, solutions);\n",
    "    # predict the solutions for the selected features\n",
    "    selected_features = np.array(selected_features).reshape(1, -1)\n",
    "    # predictions for each fo the 30 solutions\n",
    "    solutions_pred = rf.predict(selected_features)\n",
    "\n",
    "    # plot the solutions\n",
    "    x_values = list(range(len(solution_list)))\n",
    "    plt.style.use('fivethirtyeight')\n",
    "    plt.rcParams[\"figure.figsize\"] = [20.0, 10.0]\n",
    "    plt.bar(x_values, solutions_pred.reshape(-1), orientation = 'vertical')\n",
    "    plt.xticks(x_values, solution_list, rotation='vertical')\n",
    "    plt.ylabel('Probability'); \n",
    "    plt.xlabel('Solutions'); \n",
    "    plt.title('Predicted solutions'); \n",
    "\n",
    "search.on_click(submit)"
   ]
  },
  {
   "cell_type": "code",
   "execution_count": null,
   "metadata": {},
   "outputs": [],
   "source": [
    "\n"
   ]
  }
 ],
 "metadata": {
  "kernelspec": {
   "display_name": "Python 3",
   "language": "python",
   "name": "python3"
  },
  "language_info": {
   "codemirror_mode": {
    "name": "ipython",
    "version": 3
   },
   "file_extension": ".py",
   "mimetype": "text/x-python",
   "name": "python",
   "nbconvert_exporter": "python",
   "pygments_lexer": "ipython3",
   "version": "3.6.4"
  },
  "widgets": {
   "application/vnd.jupyter.widget-state+json": {
    "state": {
     "000d2dd2b51e4db4b8d608b6b555aed2": {
      "model_module": "@jupyter-widgets/base",
      "model_module_version": "1.0.0",
      "model_name": "LayoutModel",
      "state": {}
     },
     "01c41ae8a9714ebbb35842ff73df9e26": {
      "model_module": "@jupyter-widgets/controls",
      "model_module_version": "1.1.0",
      "model_name": "DropdownModel",
      "state": {
       "_options_labels": [
        "Haute",
        "Moyenne",
        "Basse"
       ],
       "description": "Importance:",
       "index": 0,
       "layout": "IPY_MODEL_e559853b5f304a1bb7edc88428b591ab",
       "style": "IPY_MODEL_882f2320d45548c695f5bf0c797bbeea"
      }
     },
     "052374d63bd54448baeff3cd9a41c6b3": {
      "model_module": "@jupyter-widgets/controls",
      "model_module_version": "1.1.0",
      "model_name": "SelectMultipleModel",
      "state": {
       "_options_labels": [
        "Alvéolé",
        "Convexe",
        "Aléatoire",
        "Plat"
       ],
       "description": "Géométrie:",
       "index": [],
       "layout": "IPY_MODEL_28a7e37be65a434eaeeb056dd069cdb4",
       "rows": 4,
       "style": "IPY_MODEL_47ca7c8c5d854241a151d3b255d4e368"
      }
     },
     "091d51c45b294941b0479bef05619d67": {
      "model_module": "@jupyter-widgets/base",
      "model_module_version": "1.0.0",
      "model_name": "LayoutModel",
      "state": {}
     },
     "0c3041e5aba14bf0ada0ae2bf7cf41e9": {
      "model_module": "@jupyter-widgets/base",
      "model_module_version": "1.0.0",
      "model_name": "LayoutModel",
      "state": {}
     },
     "0c7d4bd0b8864683a15ef57f79bfc790": {
      "model_module": "@jupyter-widgets/controls",
      "model_module_version": "1.1.0",
      "model_name": "DescriptionStyleModel",
      "state": {
       "description_width": ""
      }
     },
     "0e57369dfab54a6e8f481fd498fe8cec": {
      "model_module": "@jupyter-widgets/controls",
      "model_module_version": "1.1.0",
      "model_name": "DropdownModel",
      "state": {
       "_options_labels": [
        "Partiellement",
        "Non"
       ],
       "description": "Translucidité:",
       "index": 0,
       "layout": "IPY_MODEL_0c3041e5aba14bf0ada0ae2bf7cf41e9",
       "style": "IPY_MODEL_0c7d4bd0b8864683a15ef57f79bfc790"
      }
     },
     "132debaba7f24cefab85108701671640": {
      "model_module": "@jupyter-widgets/controls",
      "model_module_version": "1.1.0",
      "model_name": "DescriptionStyleModel",
      "state": {
       "description_width": ""
      }
     },
     "1356d850cd654ae4aab26dc062675a05": {
      "model_module": "@jupyter-widgets/base",
      "model_module_version": "1.0.0",
      "model_name": "LayoutModel",
      "state": {}
     },
     "18f27d1a3f8446938f85e19c054db4d7": {
      "model_module": "@jupyter-widgets/base",
      "model_module_version": "1.0.0",
      "model_name": "LayoutModel",
      "state": {}
     },
     "19bfd0f0ffd8418b8480ac1c1e58a7d4": {
      "model_module": "@jupyter-widgets/controls",
      "model_module_version": "1.1.0",
      "model_name": "DescriptionStyleModel",
      "state": {
       "description_width": ""
      }
     },
     "19d6b7ba91b346269a8d1bffb7726032": {
      "model_module": "@jupyter-widgets/base",
      "model_module_version": "1.0.0",
      "model_name": "LayoutModel",
      "state": {}
     },
     "1bbaa4679c064e76abc7a0de4c4e880a": {
      "model_module": "@jupyter-widgets/base",
      "model_module_version": "1.0.0",
      "model_name": "LayoutModel",
      "state": {}
     },
     "20d76a96a95c4caeb8e3f842fb805412": {
      "model_module": "@jupyter-widgets/controls",
      "model_module_version": "1.1.0",
      "model_name": "DescriptionStyleModel",
      "state": {
       "description_width": ""
      }
     },
     "224360d00fd24109802161d0149e59c1": {
      "model_module": "@jupyter-widgets/base",
      "model_module_version": "1.0.0",
      "model_name": "LayoutModel",
      "state": {}
     },
     "24369260605f44b2a5cdeb19ba54b954": {
      "model_module": "@jupyter-widgets/base",
      "model_module_version": "1.0.0",
      "model_name": "LayoutModel",
      "state": {}
     },
     "27468e92980749bf999ec2315817aeac": {
      "model_module": "@jupyter-widgets/base",
      "model_module_version": "1.0.0",
      "model_name": "LayoutModel",
      "state": {}
     },
     "275d7a57bd8049718e6a7d9876a45d17": {
      "model_module": "@jupyter-widgets/controls",
      "model_module_version": "1.1.0",
      "model_name": "DescriptionStyleModel",
      "state": {
       "description_width": ""
      }
     },
     "28a7e37be65a434eaeeb056dd069cdb4": {
      "model_module": "@jupyter-widgets/base",
      "model_module_version": "1.0.0",
      "model_name": "LayoutModel",
      "state": {}
     },
     "2cb895a7db374f889198eba76637379d": {
      "model_module": "@jupyter-widgets/controls",
      "model_module_version": "1.1.0",
      "model_name": "DescriptionStyleModel",
      "state": {
       "description_width": ""
      }
     },
     "2f995f634a2047edbd3fa8180df0992d": {
      "model_module": "@jupyter-widgets/controls",
      "model_module_version": "1.1.0",
      "model_name": "DescriptionStyleModel",
      "state": {
       "description_width": ""
      }
     },
     "331d9fea2ee0498cb25315bbd18c5f18": {
      "model_module": "@jupyter-widgets/controls",
      "model_module_version": "1.1.0",
      "model_name": "DescriptionStyleModel",
      "state": {
       "description_width": ""
      }
     },
     "352d00fa0cd349bda0cf463b6185411d": {
      "model_module": "@jupyter-widgets/controls",
      "model_module_version": "1.1.0",
      "model_name": "DescriptionStyleModel",
      "state": {
       "description_width": ""
      }
     },
     "3539ee66c06e457480a7158b97b2c938": {
      "model_module": "@jupyter-widgets/controls",
      "model_module_version": "1.1.0",
      "model_name": "DescriptionStyleModel",
      "state": {
       "description_width": ""
      }
     },
     "36715eef0a984f6891fe38a6f31e3595": {
      "model_module": "@jupyter-widgets/controls",
      "model_module_version": "1.1.0",
      "model_name": "SelectMultipleModel",
      "state": {
       "_options_labels": [
        "Lisse",
        "Rugueux"
       ],
       "description": "Rugosité:",
       "index": [],
       "layout": "IPY_MODEL_51e680abd040480ab211b503e05d3e02",
       "rows": 2,
       "style": "IPY_MODEL_331d9fea2ee0498cb25315bbd18c5f18"
      }
     },
     "3c1cbf7adce9489786adf858b44bc498": {
      "model_module": "@jupyter-widgets/controls",
      "model_module_version": "1.1.0",
      "model_name": "DescriptionStyleModel",
      "state": {
       "description_width": ""
      }
     },
     "3c58855ebab540dba8c3f98d6164c13c": {
      "model_module": "@jupyter-widgets/base",
      "model_module_version": "1.0.0",
      "model_name": "LayoutModel",
      "state": {}
     },
     "3e353c180db04599ae0cc69feabaf866": {
      "model_module": "@jupyter-widgets/controls",
      "model_module_version": "1.1.0",
      "model_name": "DescriptionStyleModel",
      "state": {
       "description_width": ""
      }
     },
     "41e5aaa7d54f4c0fab156f674db4ded3": {
      "model_module": "@jupyter-widgets/base",
      "model_module_version": "1.0.0",
      "model_name": "LayoutModel",
      "state": {}
     },
     "43c02acf8e8b4262932f9680e5ac6b16": {
      "model_module": "@jupyter-widgets/base",
      "model_module_version": "1.0.0",
      "model_name": "LayoutModel",
      "state": {}
     },
     "43f7e671f368407e9fc11e719bfab1e7": {
      "model_module": "@jupyter-widgets/controls",
      "model_module_version": "1.1.0",
      "model_name": "SelectMultipleModel",
      "state": {
       "_options_labels": [
        "Lisse",
        "Rugueux"
       ],
       "description": "Rugosité:",
       "index": [],
       "layout": "IPY_MODEL_3c58855ebab540dba8c3f98d6164c13c",
       "rows": 2,
       "style": "IPY_MODEL_9d87242e725646a399b9b333bb22a5c9"
      }
     },
     "47ca7c8c5d854241a151d3b255d4e368": {
      "model_module": "@jupyter-widgets/controls",
      "model_module_version": "1.1.0",
      "model_name": "DescriptionStyleModel",
      "state": {
       "description_width": ""
      }
     },
     "4e9c0f16313d4c7d9fdc76e9dac53573": {
      "model_module": "@jupyter-widgets/controls",
      "model_module_version": "1.1.0",
      "model_name": "HTMLModel",
      "state": {
       "layout": "IPY_MODEL_f09a6309733d404f8f13850405ace8e4",
       "style": "IPY_MODEL_3c1cbf7adce9489786adf858b44bc498",
       "value": "<h3>Sélectionnez les qualités du produit:</h3>"
      }
     },
     "51e680abd040480ab211b503e05d3e02": {
      "model_module": "@jupyter-widgets/base",
      "model_module_version": "1.0.0",
      "model_name": "LayoutModel",
      "state": {}
     },
     "525cf1deaea248fab128577f5165e3a2": {
      "model_module": "@jupyter-widgets/controls",
      "model_module_version": "1.1.0",
      "model_name": "DropdownModel",
      "state": {
       "_options_labels": [
        "Emballage",
        "Emballé",
        "Nu"
       ],
       "description": "Type de produit:",
       "index": 0,
       "layout": "IPY_MODEL_cd7bdd4c62394d20bad1fca5953a1e68",
       "style": "IPY_MODEL_7bdb9c3ccf5d461596dc86c7ad5ed465"
      }
     },
     "551d8a8289de44aab009c711f02e4bce": {
      "model_module": "@jupyter-widgets/controls",
      "model_module_version": "1.1.0",
      "model_name": "DropdownModel",
      "state": {
       "_options_labels": [
        "Haute",
        "Moyenne",
        "Basse"
       ],
       "description": "Importance:",
       "index": 0,
       "layout": "IPY_MODEL_b0fa908618e543f6be1e3e7c559323bd",
       "style": "IPY_MODEL_9a261da213ce43f78169612ed1ff6396"
      }
     },
     "564d6fcbed6d4e7ebf11cc56428bac89": {
      "model_module": "@jupyter-widgets/controls",
      "model_module_version": "1.1.0",
      "model_name": "DescriptionStyleModel",
      "state": {
       "description_width": ""
      }
     },
     "57fff4c4634348a59509d8da473ab9ce": {
      "model_module": "@jupyter-widgets/controls",
      "model_module_version": "1.1.0",
      "model_name": "SelectMultipleModel",
      "state": {
       "_options_labels": [
        "Lisse",
        "Rugueux"
       ],
       "description": "Rugosité:",
       "index": [],
       "layout": "IPY_MODEL_43c02acf8e8b4262932f9680e5ac6b16",
       "rows": 2,
       "style": "IPY_MODEL_c04ba27b3d134f35999889fdc980b4dc"
      }
     },
     "582987223c2f4e7c8a8e8cfa93366e52": {
      "model_module": "@jupyter-widgets/controls",
      "model_module_version": "1.1.0",
      "model_name": "DropdownModel",
      "state": {
       "_options_labels": [
        "Totalement",
        "Partiellement",
        "Non"
       ],
       "description": "Transparence:",
       "index": 0,
       "layout": "IPY_MODEL_877547ab4cc54d8fa41ffdf8c95e26bf",
       "style": "IPY_MODEL_d8cfdf64dbb1433d8581853a8bda798c"
      }
     },
     "5914680e0e7247ad9b57c93ed7bf4754": {
      "model_module": "@jupyter-widgets/base",
      "model_module_version": "1.0.0",
      "model_name": "LayoutModel",
      "state": {}
     },
     "5b1d6323eb144b92834ac61af9bf2844": {
      "model_module": "@jupyter-widgets/controls",
      "model_module_version": "1.1.0",
      "model_name": "ButtonStyleModel",
      "state": {}
     },
     "609967037cb74ec0836c31d3259c141f": {
      "model_module": "@jupyter-widgets/controls",
      "model_module_version": "1.1.0",
      "model_name": "ButtonStyleModel",
      "state": {}
     },
     "60fa00026ce84a609b09fc7fad35c959": {
      "model_module": "@jupyter-widgets/controls",
      "model_module_version": "1.1.0",
      "model_name": "SelectMultipleModel",
      "state": {
       "_options_labels": [
        "Alvéolé",
        "Convexe",
        "Aléatoire",
        "Plat"
       ],
       "description": "Géométrie:",
       "index": [],
       "layout": "IPY_MODEL_1bbaa4679c064e76abc7a0de4c4e880a",
       "rows": 4,
       "style": "IPY_MODEL_dfa0b2f03fdb46dfbd2e503d05d87a67"
      }
     },
     "6175cc7cfbe042179ca0138cd2a05c97": {
      "model_module": "@jupyter-widgets/base",
      "model_module_version": "1.0.0",
      "model_name": "LayoutModel",
      "state": {}
     },
     "61adfda153e14f88907ea5dc615b372c": {
      "model_module": "@jupyter-widgets/controls",
      "model_module_version": "1.1.0",
      "model_name": "DescriptionStyleModel",
      "state": {
       "description_width": ""
      }
     },
     "64d6cc22b83e4ee1b6ee3997516854ed": {
      "model_module": "@jupyter-widgets/controls",
      "model_module_version": "1.1.0",
      "model_name": "SelectMultipleModel",
      "state": {
       "_options_labels": [
        "Oui",
        "Non",
        "Partiellement"
       ],
       "description": "Réflexion:",
       "index": [],
       "layout": "IPY_MODEL_e7e6c0be51974dc6b976311ad80e52fb",
       "rows": 3,
       "style": "IPY_MODEL_e62023b459b9449685dc43db47458e26"
      }
     },
     "65535ab21d7c40b19a54c566dbf5f4fa": {
      "model_module": "@jupyter-widgets/controls",
      "model_module_version": "1.1.0",
      "model_name": "DropdownModel",
      "state": {
       "_options_labels": [
        "Totalement",
        "Partiellement",
        "Non"
       ],
       "description": "Transparence:",
       "index": 0,
       "layout": "IPY_MODEL_d6c1e73e6daa498ead434fb284320ec2",
       "style": "IPY_MODEL_668255998c844d81b3bcd1e9928f799c"
      }
     },
     "6665943706fc47ea9bb09c1d6bf4ee6a": {
      "model_module": "@jupyter-widgets/controls",
      "model_module_version": "1.1.0",
      "model_name": "SelectMultipleModel",
      "state": {
       "_options_labels": [
        "Régulière",
        "Irrégulière"
       ],
       "description": "Surface:",
       "index": [],
       "layout": "IPY_MODEL_6fcea9b7efd9415aa6db8b3318096f6a",
       "rows": 2,
       "style": "IPY_MODEL_3e353c180db04599ae0cc69feabaf866"
      }
     },
     "668255998c844d81b3bcd1e9928f799c": {
      "model_module": "@jupyter-widgets/controls",
      "model_module_version": "1.1.0",
      "model_name": "DescriptionStyleModel",
      "state": {
       "description_width": ""
      }
     },
     "6ab4447ec07c47bfa89e7b323a49359e": {
      "model_module": "@jupyter-widgets/base",
      "model_module_version": "1.0.0",
      "model_name": "LayoutModel",
      "state": {}
     },
     "6da7089312334777ac95a8931ab8bb30": {
      "model_module": "@jupyter-widgets/base",
      "model_module_version": "1.0.0",
      "model_name": "LayoutModel",
      "state": {}
     },
     "6fcea9b7efd9415aa6db8b3318096f6a": {
      "model_module": "@jupyter-widgets/base",
      "model_module_version": "1.0.0",
      "model_name": "LayoutModel",
      "state": {}
     },
     "71ba8a8a2e104437a3041fa14d7ebe9e": {
      "model_module": "@jupyter-widgets/controls",
      "model_module_version": "1.1.0",
      "model_name": "DropdownModel",
      "state": {
       "_options_labels": [
        "Partiellement",
        "Non"
       ],
       "description": "Translucidité:",
       "index": 0,
       "layout": "IPY_MODEL_ad15aa696806402d90c45f7c0bb691ee",
       "style": "IPY_MODEL_9f7098d23a4b47e7959076807cf49097"
      }
     },
     "7b5ce224cae24b04b3e164b7922796c3": {
      "model_module": "@jupyter-widgets/base",
      "model_module_version": "1.0.0",
      "model_name": "LayoutModel",
      "state": {}
     },
     "7bdb9c3ccf5d461596dc86c7ad5ed465": {
      "model_module": "@jupyter-widgets/controls",
      "model_module_version": "1.1.0",
      "model_name": "DescriptionStyleModel",
      "state": {
       "description_width": ""
      }
     },
     "85973bbc9ea04a71a3b9b56f00004adb": {
      "model_module": "@jupyter-widgets/controls",
      "model_module_version": "1.1.0",
      "model_name": "DescriptionStyleModel",
      "state": {
       "description_width": ""
      }
     },
     "86b6fa0043704b09b16ecd768e177722": {
      "model_module": "@jupyter-widgets/controls",
      "model_module_version": "1.1.0",
      "model_name": "DropdownModel",
      "state": {
       "_options_labels": [
        "Partiellement",
        "Non"
       ],
       "description": "Translucidité:",
       "index": 0,
       "layout": "IPY_MODEL_e259e865870c46eb8fc3a3863cc67b2e",
       "style": "IPY_MODEL_275d7a57bd8049718e6a7d9876a45d17"
      }
     },
     "877547ab4cc54d8fa41ffdf8c95e26bf": {
      "model_module": "@jupyter-widgets/base",
      "model_module_version": "1.0.0",
      "model_name": "LayoutModel",
      "state": {}
     },
     "87cc8f309d614408962f57b6f9d61b15": {
      "model_module": "@jupyter-widgets/controls",
      "model_module_version": "1.1.0",
      "model_name": "DropdownModel",
      "state": {
       "_options_labels": [
        "Haute",
        "Moyenne",
        "Basse"
       ],
       "description": "Importance:",
       "index": 0,
       "layout": "IPY_MODEL_19d6b7ba91b346269a8d1bffb7726032",
       "style": "IPY_MODEL_e7eb17c6c0534f93a318b4fd5f9538f7"
      }
     },
     "882f2320d45548c695f5bf0c797bbeea": {
      "model_module": "@jupyter-widgets/controls",
      "model_module_version": "1.1.0",
      "model_name": "DescriptionStyleModel",
      "state": {
       "description_width": ""
      }
     },
     "89a86beaa0004224bb3206419e83534d": {
      "model_module": "@jupyter-widgets/base",
      "model_module_version": "1.0.0",
      "model_name": "LayoutModel",
      "state": {}
     },
     "8b88931c96074f65b77659728dfb3cdf": {
      "model_module": "@jupyter-widgets/base",
      "model_module_version": "1.0.0",
      "model_name": "LayoutModel",
      "state": {}
     },
     "8f80973cf1574873a2e0a164c943298a": {
      "model_module": "@jupyter-widgets/controls",
      "model_module_version": "1.1.0",
      "model_name": "SelectMultipleModel",
      "state": {
       "_options_labels": [
        "Oui",
        "Non"
       ],
       "description": "Flaps:",
       "index": [],
       "layout": "IPY_MODEL_d74c26c5220c4f04a2ed10a95a55b333",
       "rows": 2,
       "style": "IPY_MODEL_d21a37d8dcb54e55b0feec2cf6cd17be"
      }
     },
     "8feaa6292faf4abfb8db61874fb65d01": {
      "model_module": "@jupyter-widgets/base",
      "model_module_version": "1.0.0",
      "model_name": "LayoutModel",
      "state": {}
     },
     "907d0bd1596441b496d2789ccdc26fc7": {
      "model_module": "@jupyter-widgets/controls",
      "model_module_version": "1.1.0",
      "model_name": "DescriptionStyleModel",
      "state": {
       "description_width": ""
      }
     },
     "9880583a34644fa381595921585ea5fa": {
      "model_module": "@jupyter-widgets/controls",
      "model_module_version": "1.1.0",
      "model_name": "SelectMultipleModel",
      "state": {
       "_options_labels": [
        "Argent",
        "Aucune",
        "Beige",
        "Blanc",
        "Bleu",
        "Brun",
        "Jaune",
        "Métallisé",
        "Multicouleur",
        "Noir",
        "Or",
        "Orange",
        "Rouge"
       ],
       "description": "Couleur:",
       "index": [],
       "layout": "IPY_MODEL_5914680e0e7247ad9b57c93ed7bf4754",
       "rows": 13,
       "style": "IPY_MODEL_debe99bf00c04f5cac52816e899237d8"
      }
     },
     "98fef9922f9049a696c3816c49a8b3ac": {
      "model_module": "@jupyter-widgets/controls",
      "model_module_version": "1.1.0",
      "model_name": "DropdownModel",
      "state": {
       "_options_labels": [
        "Oui",
        "Non"
       ],
       "description": "Plis:",
       "index": 0,
       "layout": "IPY_MODEL_27468e92980749bf999ec2315817aeac",
       "style": "IPY_MODEL_907d0bd1596441b496d2789ccdc26fc7"
      }
     },
     "9a261da213ce43f78169612ed1ff6396": {
      "model_module": "@jupyter-widgets/controls",
      "model_module_version": "1.1.0",
      "model_name": "DescriptionStyleModel",
      "state": {
       "description_width": ""
      }
     },
     "9d87242e725646a399b9b333bb22a5c9": {
      "model_module": "@jupyter-widgets/controls",
      "model_module_version": "1.1.0",
      "model_name": "DescriptionStyleModel",
      "state": {
       "description_width": ""
      }
     },
     "9db12e718abd406d86765b06f1e897a5": {
      "model_module": "@jupyter-widgets/controls",
      "model_module_version": "1.1.0",
      "model_name": "DropdownModel",
      "state": {
       "_options_labels": [
        "Emballage",
        "Emballé",
        "Nu"
       ],
       "description": "Type de produit:",
       "index": 0,
       "layout": "IPY_MODEL_1356d850cd654ae4aab26dc062675a05",
       "style": "IPY_MODEL_20d76a96a95c4caeb8e3f842fb805412"
      }
     },
     "9f7098d23a4b47e7959076807cf49097": {
      "model_module": "@jupyter-widgets/controls",
      "model_module_version": "1.1.0",
      "model_name": "DescriptionStyleModel",
      "state": {
       "description_width": ""
      }
     },
     "a2cde2662d84467594426c9140cfae1e": {
      "model_module": "@jupyter-widgets/controls",
      "model_module_version": "1.1.0",
      "model_name": "HTMLModel",
      "state": {
       "layout": "IPY_MODEL_41e5aaa7d54f4c0fab156f674db4ded3",
       "style": "IPY_MODEL_19bfd0f0ffd8418b8480ac1c1e58a7d4",
       "value": "<h3>Sélectionnez les qualités du produit:</h3>"
      }
     },
     "a3804af2e5c443f3883b7ba6e5eeba77": {
      "model_module": "@jupyter-widgets/base",
      "model_module_version": "1.0.0",
      "model_name": "LayoutModel",
      "state": {}
     },
     "a470e4fa0a35479abc340b67c41c2eed": {
      "model_module": "@jupyter-widgets/controls",
      "model_module_version": "1.1.0",
      "model_name": "DropdownModel",
      "state": {
       "_options_labels": [
        "Totalement",
        "Partiellement",
        "Non"
       ],
       "description": "Opacité:",
       "index": 0,
       "layout": "IPY_MODEL_224360d00fd24109802161d0149e59c1",
       "style": "IPY_MODEL_85973bbc9ea04a71a3b9b56f00004adb"
      }
     },
     "a48f1ca325714286bccaf7f7b32a4007": {
      "model_module": "@jupyter-widgets/controls",
      "model_module_version": "1.1.0",
      "model_name": "DropdownModel",
      "state": {
       "_options_labels": [
        "Totalement",
        "Partiellement",
        "Non"
       ],
       "description": "Opacité:",
       "index": 0,
       "layout": "IPY_MODEL_18f27d1a3f8446938f85e19c054db4d7",
       "style": "IPY_MODEL_c1ddb0abefc14b53835d539514e10fd4"
      }
     },
     "a7cfc7a42b74408ab176ce0b962bc7e3": {
      "model_module": "@jupyter-widgets/controls",
      "model_module_version": "1.1.0",
      "model_name": "ButtonModel",
      "state": {
       "description": "Rechercher",
       "icon": "cog",
       "layout": "IPY_MODEL_24369260605f44b2a5cdeb19ba54b954",
       "style": "IPY_MODEL_609967037cb74ec0836c31d3259c141f",
       "tooltip": "Rechercher"
      }
     },
     "aab9d93346354976ad04d3666f98e908": {
      "model_module": "@jupyter-widgets/controls",
      "model_module_version": "1.1.0",
      "model_name": "ButtonStyleModel",
      "state": {}
     },
     "ad15aa696806402d90c45f7c0bb691ee": {
      "model_module": "@jupyter-widgets/base",
      "model_module_version": "1.0.0",
      "model_name": "LayoutModel",
      "state": {}
     },
     "aed1a00f4d604a1b93fc9d9ed069e3b3": {
      "model_module": "@jupyter-widgets/controls",
      "model_module_version": "1.1.0",
      "model_name": "DropdownModel",
      "state": {
       "_options_labels": [
        "Totalement",
        "Partiellement",
        "Non"
       ],
       "description": "Opacité:",
       "index": 0,
       "layout": "IPY_MODEL_e41c7d21bc274ca293c43dc8b76f879f",
       "style": "IPY_MODEL_352d00fa0cd349bda0cf463b6185411d"
      }
     },
     "b0fa908618e543f6be1e3e7c559323bd": {
      "model_module": "@jupyter-widgets/base",
      "model_module_version": "1.0.0",
      "model_name": "LayoutModel",
      "state": {}
     },
     "b17608839a62417fb2474db71c277591": {
      "model_module": "@jupyter-widgets/controls",
      "model_module_version": "1.1.0",
      "model_name": "SelectMultipleModel",
      "state": {
       "_options_labels": [
        "Argent",
        "Aucune",
        "Beige",
        "Blanc",
        "Bleu",
        "Brun",
        "Jaune",
        "Métallisé",
        "Multicouleur",
        "Noir",
        "Or",
        "Orange",
        "Rouge"
       ],
       "description": "Couleur:",
       "index": [],
       "layout": "IPY_MODEL_89a86beaa0004224bb3206419e83534d",
       "rows": 13,
       "style": "IPY_MODEL_e677fd9870734d28b25e6645c5021feb"
      }
     },
     "b8852500eeeb4702aee53d6bf7466dcb": {
      "model_module": "@jupyter-widgets/controls",
      "model_module_version": "1.1.0",
      "model_name": "DropdownModel",
      "state": {
       "_options_labels": [
        "Totalement",
        "Partiellement",
        "Non"
       ],
       "description": "Transparence:",
       "index": 0,
       "layout": "IPY_MODEL_6175cc7cfbe042179ca0138cd2a05c97",
       "style": "IPY_MODEL_e34928c6c6e146cb8e844328e36fd367"
      }
     },
     "b9f6939425f54e67afbad747c73f8f53": {
      "model_module": "@jupyter-widgets/controls",
      "model_module_version": "1.1.0",
      "model_name": "DropdownModel",
      "state": {
       "_options_labels": [
        "Oui",
        "Non"
       ],
       "description": "Plis:",
       "index": 0,
       "layout": "IPY_MODEL_fb3284afcb28462fa57c81b35cf789a4",
       "style": "IPY_MODEL_bfd7c303727845869f03bd729b5d5cf0"
      }
     },
     "bc3c8c3ce98e4b889851ed45616e1055": {
      "model_module": "@jupyter-widgets/controls",
      "model_module_version": "1.1.0",
      "model_name": "SelectMultipleModel",
      "state": {
       "_options_labels": [
        "Oui",
        "Non",
        "Partiellement"
       ],
       "description": "Réflexion:",
       "index": [],
       "layout": "IPY_MODEL_d6be2a33a1c64544bed09c5944a10f62",
       "rows": 3,
       "style": "IPY_MODEL_ec9fb221868c470caad5dcbff4e10763"
      }
     },
     "bdcf1d6aa1a44fa0af5c1422cde6d880": {
      "model_module": "@jupyter-widgets/base",
      "model_module_version": "1.0.0",
      "model_name": "LayoutModel",
      "state": {}
     },
     "bfd7c303727845869f03bd729b5d5cf0": {
      "model_module": "@jupyter-widgets/controls",
      "model_module_version": "1.1.0",
      "model_name": "DescriptionStyleModel",
      "state": {
       "description_width": ""
      }
     },
     "c04ba27b3d134f35999889fdc980b4dc": {
      "model_module": "@jupyter-widgets/controls",
      "model_module_version": "1.1.0",
      "model_name": "DescriptionStyleModel",
      "state": {
       "description_width": ""
      }
     },
     "c1ddb0abefc14b53835d539514e10fd4": {
      "model_module": "@jupyter-widgets/controls",
      "model_module_version": "1.1.0",
      "model_name": "DescriptionStyleModel",
      "state": {
       "description_width": ""
      }
     },
     "c2094f2b399648bbb66aaf3987c3e7c1": {
      "model_module": "@jupyter-widgets/controls",
      "model_module_version": "1.1.0",
      "model_name": "SelectMultipleModel",
      "state": {
       "_options_labels": [
        "Oui",
        "Non"
       ],
       "description": "Flaps:",
       "index": [],
       "layout": "IPY_MODEL_091d51c45b294941b0479bef05619d67",
       "rows": 2,
       "style": "IPY_MODEL_2f995f634a2047edbd3fa8180df0992d"
      }
     },
     "c42b2239aa9e499fbdf9778dad7dcba6": {
      "model_module": "@jupyter-widgets/controls",
      "model_module_version": "1.1.0",
      "model_name": "DescriptionStyleModel",
      "state": {
       "description_width": ""
      }
     },
     "caaa2cab95f44e898b357381fae97c60": {
      "model_module": "@jupyter-widgets/controls",
      "model_module_version": "1.1.0",
      "model_name": "HTMLModel",
      "state": {
       "layout": "IPY_MODEL_8b88931c96074f65b77659728dfb3cdf",
       "style": "IPY_MODEL_132debaba7f24cefab85108701671640",
       "value": "<h3>Sélectionnez les qualités du produit:</h3>"
      }
     },
     "cc486c8b0c2941baa6fd061c55ab377c": {
      "model_module": "@jupyter-widgets/controls",
      "model_module_version": "1.1.0",
      "model_name": "SelectMultipleModel",
      "state": {
       "_options_labels": [
        "Oui",
        "Non",
        "Partiellement"
       ],
       "description": "Réflexion:",
       "index": [],
       "layout": "IPY_MODEL_6ab4447ec07c47bfa89e7b323a49359e",
       "rows": 3,
       "style": "IPY_MODEL_f344aff84af642d2baf0b3f6a89a9f71"
      }
     },
     "cd7bdd4c62394d20bad1fca5953a1e68": {
      "model_module": "@jupyter-widgets/base",
      "model_module_version": "1.0.0",
      "model_name": "LayoutModel",
      "state": {}
     },
     "cd9194f3ae2440488f2a6b903e3fc5f2": {
      "model_module": "@jupyter-widgets/controls",
      "model_module_version": "1.1.0",
      "model_name": "DropdownModel",
      "state": {
       "_options_labels": [
        "Oui",
        "Non"
       ],
       "description": "Plis:",
       "index": 0,
       "layout": "IPY_MODEL_000d2dd2b51e4db4b8d608b6b555aed2",
       "style": "IPY_MODEL_d0bb72f453ac409592b765f6304cb679"
      }
     },
     "cec1ffd183b0447a8da8dfd05ab8c3cf": {
      "model_module": "@jupyter-widgets/controls",
      "model_module_version": "1.1.0",
      "model_name": "SelectMultipleModel",
      "state": {
       "_options_labels": [
        "Alvéolé",
        "Convexe",
        "Aléatoire",
        "Plat"
       ],
       "description": "Géométrie:",
       "index": [],
       "layout": "IPY_MODEL_fbea78e3e450436e8fd8272eb535ca6f",
       "rows": 4,
       "style": "IPY_MODEL_dfb31b48307042abbfed991a46c5ee86"
      }
     },
     "d0bb72f453ac409592b765f6304cb679": {
      "model_module": "@jupyter-widgets/controls",
      "model_module_version": "1.1.0",
      "model_name": "DescriptionStyleModel",
      "state": {
       "description_width": ""
      }
     },
     "d21a37d8dcb54e55b0feec2cf6cd17be": {
      "model_module": "@jupyter-widgets/controls",
      "model_module_version": "1.1.0",
      "model_name": "DescriptionStyleModel",
      "state": {
       "description_width": ""
      }
     },
     "d6be2a33a1c64544bed09c5944a10f62": {
      "model_module": "@jupyter-widgets/base",
      "model_module_version": "1.0.0",
      "model_name": "LayoutModel",
      "state": {}
     },
     "d6c1e73e6daa498ead434fb284320ec2": {
      "model_module": "@jupyter-widgets/base",
      "model_module_version": "1.0.0",
      "model_name": "LayoutModel",
      "state": {}
     },
     "d74c26c5220c4f04a2ed10a95a55b333": {
      "model_module": "@jupyter-widgets/base",
      "model_module_version": "1.0.0",
      "model_name": "LayoutModel",
      "state": {}
     },
     "d8cfdf64dbb1433d8581853a8bda798c": {
      "model_module": "@jupyter-widgets/controls",
      "model_module_version": "1.1.0",
      "model_name": "DescriptionStyleModel",
      "state": {
       "description_width": ""
      }
     },
     "debe99bf00c04f5cac52816e899237d8": {
      "model_module": "@jupyter-widgets/controls",
      "model_module_version": "1.1.0",
      "model_name": "DescriptionStyleModel",
      "state": {
       "description_width": ""
      }
     },
     "dfa0b2f03fdb46dfbd2e503d05d87a67": {
      "model_module": "@jupyter-widgets/controls",
      "model_module_version": "1.1.0",
      "model_name": "DescriptionStyleModel",
      "state": {
       "description_width": ""
      }
     },
     "dfb31b48307042abbfed991a46c5ee86": {
      "model_module": "@jupyter-widgets/controls",
      "model_module_version": "1.1.0",
      "model_name": "DescriptionStyleModel",
      "state": {
       "description_width": ""
      }
     },
     "e1fab5afc9684f6da35b1898902f40fc": {
      "model_module": "@jupyter-widgets/base",
      "model_module_version": "1.0.0",
      "model_name": "LayoutModel",
      "state": {}
     },
     "e259e865870c46eb8fc3a3863cc67b2e": {
      "model_module": "@jupyter-widgets/base",
      "model_module_version": "1.0.0",
      "model_name": "LayoutModel",
      "state": {}
     },
     "e34928c6c6e146cb8e844328e36fd367": {
      "model_module": "@jupyter-widgets/controls",
      "model_module_version": "1.1.0",
      "model_name": "DescriptionStyleModel",
      "state": {
       "description_width": ""
      }
     },
     "e41c7d21bc274ca293c43dc8b76f879f": {
      "model_module": "@jupyter-widgets/base",
      "model_module_version": "1.0.0",
      "model_name": "LayoutModel",
      "state": {}
     },
     "e559853b5f304a1bb7edc88428b591ab": {
      "model_module": "@jupyter-widgets/base",
      "model_module_version": "1.0.0",
      "model_name": "LayoutModel",
      "state": {}
     },
     "e62023b459b9449685dc43db47458e26": {
      "model_module": "@jupyter-widgets/controls",
      "model_module_version": "1.1.0",
      "model_name": "DescriptionStyleModel",
      "state": {
       "description_width": ""
      }
     },
     "e677fd9870734d28b25e6645c5021feb": {
      "model_module": "@jupyter-widgets/controls",
      "model_module_version": "1.1.0",
      "model_name": "DescriptionStyleModel",
      "state": {
       "description_width": ""
      }
     },
     "e7e6c0be51974dc6b976311ad80e52fb": {
      "model_module": "@jupyter-widgets/base",
      "model_module_version": "1.0.0",
      "model_name": "LayoutModel",
      "state": {}
     },
     "e7eb17c6c0534f93a318b4fd5f9538f7": {
      "model_module": "@jupyter-widgets/controls",
      "model_module_version": "1.1.0",
      "model_name": "DescriptionStyleModel",
      "state": {
       "description_width": ""
      }
     },
     "e8a801284439413c827f292b8388ea50": {
      "model_module": "@jupyter-widgets/base",
      "model_module_version": "1.0.0",
      "model_name": "LayoutModel",
      "state": {}
     },
     "ec9fb221868c470caad5dcbff4e10763": {
      "model_module": "@jupyter-widgets/controls",
      "model_module_version": "1.1.0",
      "model_name": "DescriptionStyleModel",
      "state": {
       "description_width": ""
      }
     },
     "f09a6309733d404f8f13850405ace8e4": {
      "model_module": "@jupyter-widgets/base",
      "model_module_version": "1.0.0",
      "model_name": "LayoutModel",
      "state": {}
     },
     "f3248a28803d4b4f857b471a89a668e1": {
      "model_module": "@jupyter-widgets/controls",
      "model_module_version": "1.1.0",
      "model_name": "DropdownModel",
      "state": {
       "_options_labels": [
        "Emballage",
        "Emballé",
        "Nu"
       ],
       "description": "Type de produit:",
       "index": 0,
       "layout": "IPY_MODEL_e1fab5afc9684f6da35b1898902f40fc",
       "style": "IPY_MODEL_2cb895a7db374f889198eba76637379d"
      }
     },
     "f344aff84af642d2baf0b3f6a89a9f71": {
      "model_module": "@jupyter-widgets/controls",
      "model_module_version": "1.1.0",
      "model_name": "DescriptionStyleModel",
      "state": {
       "description_width": ""
      }
     },
     "f40cdb1c0cea49b3bf0660a5a68c3521": {
      "model_module": "@jupyter-widgets/controls",
      "model_module_version": "1.1.0",
      "model_name": "SelectMultipleModel",
      "state": {
       "_options_labels": [
        "Régulière",
        "Irrégulière"
       ],
       "description": "Surface:",
       "index": [],
       "layout": "IPY_MODEL_bdcf1d6aa1a44fa0af5c1422cde6d880",
       "rows": 2,
       "style": "IPY_MODEL_61adfda153e14f88907ea5dc615b372c"
      }
     },
     "f91f59d4019b485fba880c93c3e12e08": {
      "model_module": "@jupyter-widgets/controls",
      "model_module_version": "1.1.0",
      "model_name": "ButtonModel",
      "state": {
       "description": "Rechercher",
       "icon": "cog",
       "layout": "IPY_MODEL_8feaa6292faf4abfb8db61874fb65d01",
       "style": "IPY_MODEL_aab9d93346354976ad04d3666f98e908",
       "tooltip": "Rechercher"
      }
     },
     "f95b3809c3d64bb8a4be2e2ed6ad2f2d": {
      "model_module": "@jupyter-widgets/controls",
      "model_module_version": "1.1.0",
      "model_name": "SelectMultipleModel",
      "state": {
       "_options_labels": [
        "Argent",
        "Aucune",
        "Beige",
        "Blanc",
        "Bleu",
        "Brun",
        "Jaune",
        "Métallisé",
        "Multicouleur",
        "Noir",
        "Or",
        "Orange",
        "Rouge"
       ],
       "description": "Couleur:",
       "index": [],
       "layout": "IPY_MODEL_6da7089312334777ac95a8931ab8bb30",
       "rows": 13,
       "style": "IPY_MODEL_c42b2239aa9e499fbdf9778dad7dcba6"
      }
     },
     "fb3284afcb28462fa57c81b35cf789a4": {
      "model_module": "@jupyter-widgets/base",
      "model_module_version": "1.0.0",
      "model_name": "LayoutModel",
      "state": {}
     },
     "fbea78e3e450436e8fd8272eb535ca6f": {
      "model_module": "@jupyter-widgets/base",
      "model_module_version": "1.0.0",
      "model_name": "LayoutModel",
      "state": {}
     },
     "fd462f630a0247b99fd80922b8fd2caa": {
      "model_module": "@jupyter-widgets/controls",
      "model_module_version": "1.1.0",
      "model_name": "ButtonModel",
      "state": {
       "description": "Rechercher",
       "icon": "cog",
       "layout": "IPY_MODEL_7b5ce224cae24b04b3e164b7922796c3",
       "style": "IPY_MODEL_5b1d6323eb144b92834ac61af9bf2844",
       "tooltip": "Rechercher"
      }
     },
     "fe534edcddd942dd8118f8002046c465": {
      "model_module": "@jupyter-widgets/controls",
      "model_module_version": "1.1.0",
      "model_name": "SelectMultipleModel",
      "state": {
       "_options_labels": [
        "Régulière",
        "Irrégulière"
       ],
       "description": "Surface:",
       "index": [],
       "layout": "IPY_MODEL_a3804af2e5c443f3883b7ba6e5eeba77",
       "rows": 2,
       "style": "IPY_MODEL_3539ee66c06e457480a7158b97b2c938"
      }
     },
     "ff785aa1c8694348909bf9faf2f9cf43": {
      "model_module": "@jupyter-widgets/controls",
      "model_module_version": "1.1.0",
      "model_name": "SelectMultipleModel",
      "state": {
       "_options_labels": [
        "Oui",
        "Non"
       ],
       "description": "Flaps:",
       "index": [],
       "layout": "IPY_MODEL_e8a801284439413c827f292b8388ea50",
       "rows": 2,
       "style": "IPY_MODEL_564d6fcbed6d4e7ebf11cc56428bac89"
      }
     }
    },
    "version_major": 2,
    "version_minor": 0
   }
  }
 },
 "nbformat": 4,
 "nbformat_minor": 2
}
